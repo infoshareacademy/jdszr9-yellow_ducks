{
 "cells": [
  {
   "cell_type": "code",
   "execution_count": 14,
   "id": "bc84407c",
   "metadata": {},
   "outputs": [
    {
     "name": "stdout",
     "output_type": "stream",
     "text": [
      "{2: 3, 3: 3, 4: 3, 5: 3, 8: 3, 6: 3} [1, 7]\n"
     ]
    }
   ],
   "source": [
    "tablica = [1,2,3,4,5,8,8,6,4,3,2,2,3,4,5,6,7,8,6,5]\n",
    "\n",
    "def funkcja2(tab1:list):\n",
    "    one_list = []\n",
    "    dict_of_elements = {}\n",
    "    licznik = 0\n",
    "    while len(tab1)>0:\n",
    "        zmienna = tab1[0]\n",
    "        suma_wystapien = tab1.count(tab1[0])\n",
    "        if suma_wystapien > 1:\n",
    "            dict_of_elements[tab1[0]] = suma_wystapien\n",
    "        else:\n",
    "            one_list.append(tab1[0])\n",
    "        for item in tab1[:]:\n",
    "            if item == zmienna:\n",
    "                tab1.remove(item)\n",
    "        \n",
    "    print(dict_of_elements, one_list)\n",
    "funkcja2(tablica)"
   ]
  },
  {
   "cell_type": "code",
   "execution_count": 15,
   "id": "c6cf4aa4",
   "metadata": {},
   "outputs": [
    {
     "name": "stdout",
     "output_type": "stream",
     "text": [
      "Dzień: thursday\n",
      "Wskazanie czujnika: 1100\n",
      "Temperatura: 46.809℃\n"
     ]
    }
   ],
   "source": [
    "def sensor_read(week_day):\n",
    "\n",
    "    week_day = week_day.lower()\n",
    "    week_data = {\n",
    "        \"monday\" : \"1250\",\n",
    "        \"tuesday\" : \"1405\",\n",
    "        \"wednesday\" : \"1750\",\n",
    "        \"thursday\" : \"1100\",\n",
    "        \"friday\" : \"0800\",\n",
    "        \"saturday\" : \"1225\",\n",
    "        \"sunday\" : \"1355\"\n",
    "    }\n",
    "    temp = 0\n",
    "    read_data = 0\n",
    "\n",
    "    def walidation_day(week_day):        \n",
    "        if week_day in week_data:\n",
    "            return int(week_data[week_day])\n",
    "        else:\n",
    "            return print(\"brak takiego odczytu\")\n",
    "\n",
    "    if isinstance(walidation_day(week_day), int): \n",
    "        read_data = walidation_day(week_day)\n",
    "\n",
    "        if read_data >= 1400:\n",
    "            temp = float(week_data[week_day])/22.5\n",
    "        elif read_data > 1200 and read_data <1400:\n",
    "            temp = float(week_data[week_day])/23.1\n",
    "        else:\n",
    "            temp = float(week_data[week_day])/23.5\n",
    "        return print(\"Dzień: \"+str( week_day.lower())+\n",
    "                     \"\\nWskazanie czujnika: \"+\n",
    "                     str( week_data.get(week_day.lower()))+\n",
    "                     \"\\nTemperatura: \"+str( round(temp, 3))+\"\\u2103\")\n",
    "\n",
    "\n",
    "sensor_read(\"thursdaY\")"
   ]
  },
  {
   "cell_type": "code",
   "execution_count": 16,
   "id": "df64e0f4",
   "metadata": {},
   "outputs": [
    {
     "name": "stdout",
     "output_type": "stream",
     "text": [
      "[78 69 55 43 48 58 97 53 36 23 82 20 31 15 13 25 54 72 50 19 22 16 41 39\n",
      " 24 57 95 93  1 14]\n",
      "[78 55 48 97 36 82 31 13 54 50 22 41 24 95  1]\n",
      "[[[78 69]\n",
      "  [55 43]\n",
      "  [48 58]\n",
      "  [97 53]\n",
      "  [36 23]]\n",
      "\n",
      " [[82 20]\n",
      "  [31 15]\n",
      "  [13 25]\n",
      "  [54 72]\n",
      "  [50 19]]\n",
      "\n",
      " [[22 16]\n",
      "  [41 39]\n",
      "  [24 57]\n",
      "  [95 93]\n",
      "  [ 1 14]]]\n",
      "[78 69 55 43 48 58 97 53 36 23 82 20 31 15 13 25 54 72 50 19 22 16 41 39\n",
      " 24 57 95 93  1 14]\n",
      "[[78 69 55 43 48]\n",
      " [58 97 53 36 23]\n",
      " [82 20 31 15 13]\n",
      " [25 54 72 50 19]\n",
      " [22 16 41 39 24]\n",
      " [57 95 93  1 14]]\n",
      "[[14  1 93 95 57]\n",
      " [24 39 41 16 22]\n",
      " [19 50 72 54 25]\n",
      " [13 15 31 20 82]\n",
      " [23 36 53 97 58]\n",
      " [48 43 55 69 78]]\n"
     ]
    }
   ],
   "source": [
    "import random\n",
    "import numpy as np\n",
    "l = np.array(random.sample(range(1,100),30))\n",
    "print(l)\n",
    "print(l[::2])\n",
    "\n",
    "newarr = l.reshape(3,5,2)\n",
    "print(newarr)\n",
    "\n",
    "newarr = newarr.flatten()\n",
    "print(newarr)\n",
    "\n",
    "newarr = newarr.reshape(6,5)\n",
    "print(newarr)\n",
    "print(newarr[::-1,::-1])"
   ]
  },
  {
   "cell_type": "code",
   "execution_count": null,
   "id": "04770c08",
   "metadata": {},
   "outputs": [],
   "source": []
  }
 ],
 "metadata": {
  "kernelspec": {
   "display_name": "Python 3 (ipykernel)",
   "language": "python",
   "name": "python3"
  },
  "language_info": {
   "codemirror_mode": {
    "name": "ipython",
    "version": 3
   },
   "file_extension": ".py",
   "mimetype": "text/x-python",
   "name": "python",
   "nbconvert_exporter": "python",
   "pygments_lexer": "ipython3",
   "version": "3.9.12"
  }
 },
 "nbformat": 4,
 "nbformat_minor": 5
}
