{
 "cells": [
  {
   "cell_type": "code",
   "execution_count": 1,
   "id": "84e7328e",
   "metadata": {},
   "outputs": [],
   "source": [
    "import pandas as pd\n",
    "import numpy as np\n",
    "import seaborn as sns\n",
    "import matplotlib.pyplot as plt"
   ]
  },
  {
   "cell_type": "code",
   "execution_count": 2,
   "id": "b43b5f53",
   "metadata": {},
   "outputs": [],
   "source": [
    "from sklearn.model_selection import train_test_split"
   ]
  },
  {
   "cell_type": "code",
   "execution_count": 3,
   "id": "43d92a40",
   "metadata": {},
   "outputs": [],
   "source": [
    "# Silnik ML\n",
    "from sklearn.linear_model import LogisticRegression\n",
    "from sklearn.tree import DecisionTreeClassifier\n",
    "from sklearn.ensemble import RandomForestClassifier\n",
    "from sklearn.neighbors import KNeighborsClassifier\n",
    "from sklearn.naive_bayes import GaussianNB\n",
    "from sklearn.metrics import accuracy_score, f1_score, roc_auc_score, precision_score, recall_score, classification_report, confusion_matrix, ConfusionMatrixDisplay, roc_curve\n",
    "from sklearn.model_selection import cross_validate\n",
    "import xgboost as xgb\n",
    "from hyperopt import hp\n",
    "from hyperopt import fmin, tpe\n",
    "from hyperopt.pyll.base import scope"
   ]
  },
  {
   "cell_type": "code",
   "execution_count": 4,
   "id": "74eff3c7",
   "metadata": {},
   "outputs": [],
   "source": [
    "from sklearn.model_selection import GridSearchCV, RandomizedSearchCV"
   ]
  },
  {
   "cell_type": "code",
   "execution_count": 42,
   "id": "45598cea",
   "metadata": {},
   "outputs": [],
   "source": [
    "from sklearn.feature_selection import RFE"
   ]
  },
  {
   "cell_type": "code",
   "execution_count": 5,
   "id": "dd24bf48",
   "metadata": {},
   "outputs": [],
   "source": [
    "data = pd.read_csv('training_sample.csv')"
   ]
  },
  {
   "cell_type": "code",
   "execution_count": 6,
   "id": "e56d5dca",
   "metadata": {},
   "outputs": [
    {
     "data": {
      "text/plain": [
       "(455401, 25)"
      ]
     },
     "execution_count": 6,
     "metadata": {},
     "output_type": "execute_result"
    }
   ],
   "source": [
    "data.shape"
   ]
  },
  {
   "cell_type": "code",
   "execution_count": 7,
   "id": "7c66138f",
   "metadata": {},
   "outputs": [],
   "source": [
    "data_to_join = pd.read_csv('testing_sample.csv')"
   ]
  },
  {
   "cell_type": "code",
   "execution_count": 8,
   "id": "61cec2cc",
   "metadata": {},
   "outputs": [
    {
     "data": {
      "text/plain": [
       "(151655, 25)"
      ]
     },
     "execution_count": 8,
     "metadata": {},
     "output_type": "execute_result"
    }
   ],
   "source": [
    "data_to_join.shape"
   ]
  },
  {
   "cell_type": "code",
   "execution_count": 9,
   "id": "87cfd370",
   "metadata": {},
   "outputs": [],
   "source": [
    "data = pd.concat([data, data_to_join], ignore_index=True)"
   ]
  },
  {
   "cell_type": "code",
   "execution_count": 10,
   "id": "1cce47f2",
   "metadata": {},
   "outputs": [
    {
     "data": {
      "text/plain": [
       "(607056, 25)"
      ]
     },
     "execution_count": 10,
     "metadata": {},
     "output_type": "execute_result"
    }
   ],
   "source": [
    "data.shape"
   ]
  },
  {
   "cell_type": "code",
   "execution_count": 11,
   "id": "11a59a23",
   "metadata": {},
   "outputs": [
    {
     "data": {
      "text/plain": [
       "Index(['UserID', 'basket_icon_click', 'basket_add_list', 'basket_add_detail',\n",
       "       'sort_by', 'image_picker', 'account_page_click', 'promo_banner_click',\n",
       "       'detail_wishlist_add', 'list_size_dropdown', 'closed_minibasket_click',\n",
       "       'checked_delivery_detail', 'checked_returns_detail', 'sign_in',\n",
       "       'saw_checkout', 'saw_sizecharts', 'saw_delivery', 'saw_account_upgrade',\n",
       "       'saw_homepage', 'device_mobile', 'device_computer', 'device_tablet',\n",
       "       'returning_user', 'loc_uk', 'ordered'],\n",
       "      dtype='object')"
      ]
     },
     "execution_count": 11,
     "metadata": {},
     "output_type": "execute_result"
    }
   ],
   "source": [
    "data.columns"
   ]
  },
  {
   "cell_type": "code",
   "execution_count": 12,
   "id": "ec5a548a",
   "metadata": {},
   "outputs": [],
   "source": [
    "data.drop(columns=['UserID', 'sign_in', 'saw_checkout', 'checked_delivery_detail'], inplace = True)"
   ]
  },
  {
   "cell_type": "code",
   "execution_count": 13,
   "id": "0bc16829",
   "metadata": {},
   "outputs": [
    {
     "data": {
      "text/html": [
       "<div>\n",
       "<style scoped>\n",
       "    .dataframe tbody tr th:only-of-type {\n",
       "        vertical-align: middle;\n",
       "    }\n",
       "\n",
       "    .dataframe tbody tr th {\n",
       "        vertical-align: top;\n",
       "    }\n",
       "\n",
       "    .dataframe thead th {\n",
       "        text-align: right;\n",
       "    }\n",
       "</style>\n",
       "<table border=\"1\" class=\"dataframe\">\n",
       "  <thead>\n",
       "    <tr style=\"text-align: right;\">\n",
       "      <th></th>\n",
       "      <th>basket_icon_click</th>\n",
       "      <th>basket_add_list</th>\n",
       "      <th>basket_add_detail</th>\n",
       "      <th>sort_by</th>\n",
       "      <th>image_picker</th>\n",
       "      <th>account_page_click</th>\n",
       "      <th>promo_banner_click</th>\n",
       "      <th>detail_wishlist_add</th>\n",
       "      <th>list_size_dropdown</th>\n",
       "      <th>closed_minibasket_click</th>\n",
       "      <th>...</th>\n",
       "      <th>saw_sizecharts</th>\n",
       "      <th>saw_delivery</th>\n",
       "      <th>saw_account_upgrade</th>\n",
       "      <th>saw_homepage</th>\n",
       "      <th>device_mobile</th>\n",
       "      <th>device_computer</th>\n",
       "      <th>device_tablet</th>\n",
       "      <th>returning_user</th>\n",
       "      <th>loc_uk</th>\n",
       "      <th>ordered</th>\n",
       "    </tr>\n",
       "  </thead>\n",
       "  <tbody>\n",
       "    <tr>\n",
       "      <th>0</th>\n",
       "      <td>0</td>\n",
       "      <td>0</td>\n",
       "      <td>0</td>\n",
       "      <td>0</td>\n",
       "      <td>0</td>\n",
       "      <td>0</td>\n",
       "      <td>0</td>\n",
       "      <td>0</td>\n",
       "      <td>0</td>\n",
       "      <td>0</td>\n",
       "      <td>...</td>\n",
       "      <td>0</td>\n",
       "      <td>0</td>\n",
       "      <td>0</td>\n",
       "      <td>0</td>\n",
       "      <td>1</td>\n",
       "      <td>0</td>\n",
       "      <td>0</td>\n",
       "      <td>0</td>\n",
       "      <td>1</td>\n",
       "      <td>0</td>\n",
       "    </tr>\n",
       "    <tr>\n",
       "      <th>1</th>\n",
       "      <td>0</td>\n",
       "      <td>0</td>\n",
       "      <td>0</td>\n",
       "      <td>0</td>\n",
       "      <td>0</td>\n",
       "      <td>0</td>\n",
       "      <td>0</td>\n",
       "      <td>0</td>\n",
       "      <td>0</td>\n",
       "      <td>0</td>\n",
       "      <td>...</td>\n",
       "      <td>0</td>\n",
       "      <td>0</td>\n",
       "      <td>0</td>\n",
       "      <td>0</td>\n",
       "      <td>1</td>\n",
       "      <td>0</td>\n",
       "      <td>0</td>\n",
       "      <td>0</td>\n",
       "      <td>1</td>\n",
       "      <td>0</td>\n",
       "    </tr>\n",
       "    <tr>\n",
       "      <th>2</th>\n",
       "      <td>0</td>\n",
       "      <td>0</td>\n",
       "      <td>0</td>\n",
       "      <td>0</td>\n",
       "      <td>0</td>\n",
       "      <td>0</td>\n",
       "      <td>0</td>\n",
       "      <td>0</td>\n",
       "      <td>0</td>\n",
       "      <td>0</td>\n",
       "      <td>...</td>\n",
       "      <td>0</td>\n",
       "      <td>0</td>\n",
       "      <td>0</td>\n",
       "      <td>0</td>\n",
       "      <td>1</td>\n",
       "      <td>0</td>\n",
       "      <td>0</td>\n",
       "      <td>1</td>\n",
       "      <td>1</td>\n",
       "      <td>0</td>\n",
       "    </tr>\n",
       "    <tr>\n",
       "      <th>3</th>\n",
       "      <td>0</td>\n",
       "      <td>0</td>\n",
       "      <td>0</td>\n",
       "      <td>0</td>\n",
       "      <td>0</td>\n",
       "      <td>0</td>\n",
       "      <td>0</td>\n",
       "      <td>0</td>\n",
       "      <td>0</td>\n",
       "      <td>0</td>\n",
       "      <td>...</td>\n",
       "      <td>0</td>\n",
       "      <td>0</td>\n",
       "      <td>0</td>\n",
       "      <td>0</td>\n",
       "      <td>1</td>\n",
       "      <td>0</td>\n",
       "      <td>0</td>\n",
       "      <td>1</td>\n",
       "      <td>1</td>\n",
       "      <td>0</td>\n",
       "    </tr>\n",
       "    <tr>\n",
       "      <th>4</th>\n",
       "      <td>0</td>\n",
       "      <td>1</td>\n",
       "      <td>0</td>\n",
       "      <td>1</td>\n",
       "      <td>0</td>\n",
       "      <td>0</td>\n",
       "      <td>0</td>\n",
       "      <td>0</td>\n",
       "      <td>1</td>\n",
       "      <td>0</td>\n",
       "      <td>...</td>\n",
       "      <td>0</td>\n",
       "      <td>0</td>\n",
       "      <td>0</td>\n",
       "      <td>1</td>\n",
       "      <td>0</td>\n",
       "      <td>0</td>\n",
       "      <td>1</td>\n",
       "      <td>0</td>\n",
       "      <td>1</td>\n",
       "      <td>1</td>\n",
       "    </tr>\n",
       "    <tr>\n",
       "      <th>...</th>\n",
       "      <td>...</td>\n",
       "      <td>...</td>\n",
       "      <td>...</td>\n",
       "      <td>...</td>\n",
       "      <td>...</td>\n",
       "      <td>...</td>\n",
       "      <td>...</td>\n",
       "      <td>...</td>\n",
       "      <td>...</td>\n",
       "      <td>...</td>\n",
       "      <td>...</td>\n",
       "      <td>...</td>\n",
       "      <td>...</td>\n",
       "      <td>...</td>\n",
       "      <td>...</td>\n",
       "      <td>...</td>\n",
       "      <td>...</td>\n",
       "      <td>...</td>\n",
       "      <td>...</td>\n",
       "      <td>...</td>\n",
       "      <td>...</td>\n",
       "    </tr>\n",
       "    <tr>\n",
       "      <th>607051</th>\n",
       "      <td>0</td>\n",
       "      <td>0</td>\n",
       "      <td>0</td>\n",
       "      <td>0</td>\n",
       "      <td>0</td>\n",
       "      <td>0</td>\n",
       "      <td>0</td>\n",
       "      <td>0</td>\n",
       "      <td>0</td>\n",
       "      <td>0</td>\n",
       "      <td>...</td>\n",
       "      <td>0</td>\n",
       "      <td>0</td>\n",
       "      <td>0</td>\n",
       "      <td>1</td>\n",
       "      <td>1</td>\n",
       "      <td>0</td>\n",
       "      <td>0</td>\n",
       "      <td>1</td>\n",
       "      <td>1</td>\n",
       "      <td>0</td>\n",
       "    </tr>\n",
       "    <tr>\n",
       "      <th>607052</th>\n",
       "      <td>0</td>\n",
       "      <td>0</td>\n",
       "      <td>0</td>\n",
       "      <td>0</td>\n",
       "      <td>0</td>\n",
       "      <td>0</td>\n",
       "      <td>0</td>\n",
       "      <td>0</td>\n",
       "      <td>0</td>\n",
       "      <td>0</td>\n",
       "      <td>...</td>\n",
       "      <td>0</td>\n",
       "      <td>0</td>\n",
       "      <td>0</td>\n",
       "      <td>0</td>\n",
       "      <td>1</td>\n",
       "      <td>0</td>\n",
       "      <td>0</td>\n",
       "      <td>1</td>\n",
       "      <td>0</td>\n",
       "      <td>0</td>\n",
       "    </tr>\n",
       "    <tr>\n",
       "      <th>607053</th>\n",
       "      <td>0</td>\n",
       "      <td>0</td>\n",
       "      <td>0</td>\n",
       "      <td>0</td>\n",
       "      <td>0</td>\n",
       "      <td>0</td>\n",
       "      <td>0</td>\n",
       "      <td>0</td>\n",
       "      <td>0</td>\n",
       "      <td>0</td>\n",
       "      <td>...</td>\n",
       "      <td>0</td>\n",
       "      <td>0</td>\n",
       "      <td>0</td>\n",
       "      <td>0</td>\n",
       "      <td>1</td>\n",
       "      <td>0</td>\n",
       "      <td>0</td>\n",
       "      <td>1</td>\n",
       "      <td>1</td>\n",
       "      <td>0</td>\n",
       "    </tr>\n",
       "    <tr>\n",
       "      <th>607054</th>\n",
       "      <td>0</td>\n",
       "      <td>0</td>\n",
       "      <td>0</td>\n",
       "      <td>0</td>\n",
       "      <td>0</td>\n",
       "      <td>0</td>\n",
       "      <td>0</td>\n",
       "      <td>0</td>\n",
       "      <td>0</td>\n",
       "      <td>0</td>\n",
       "      <td>...</td>\n",
       "      <td>0</td>\n",
       "      <td>0</td>\n",
       "      <td>0</td>\n",
       "      <td>0</td>\n",
       "      <td>1</td>\n",
       "      <td>0</td>\n",
       "      <td>0</td>\n",
       "      <td>1</td>\n",
       "      <td>1</td>\n",
       "      <td>0</td>\n",
       "    </tr>\n",
       "    <tr>\n",
       "      <th>607055</th>\n",
       "      <td>0</td>\n",
       "      <td>0</td>\n",
       "      <td>0</td>\n",
       "      <td>0</td>\n",
       "      <td>0</td>\n",
       "      <td>0</td>\n",
       "      <td>0</td>\n",
       "      <td>0</td>\n",
       "      <td>1</td>\n",
       "      <td>0</td>\n",
       "      <td>...</td>\n",
       "      <td>0</td>\n",
       "      <td>0</td>\n",
       "      <td>0</td>\n",
       "      <td>1</td>\n",
       "      <td>0</td>\n",
       "      <td>0</td>\n",
       "      <td>1</td>\n",
       "      <td>0</td>\n",
       "      <td>1</td>\n",
       "      <td>0</td>\n",
       "    </tr>\n",
       "  </tbody>\n",
       "</table>\n",
       "<p>607056 rows × 21 columns</p>\n",
       "</div>"
      ],
      "text/plain": [
       "        basket_icon_click  basket_add_list  basket_add_detail  sort_by  \\\n",
       "0                       0                0                  0        0   \n",
       "1                       0                0                  0        0   \n",
       "2                       0                0                  0        0   \n",
       "3                       0                0                  0        0   \n",
       "4                       0                1                  0        1   \n",
       "...                   ...              ...                ...      ...   \n",
       "607051                  0                0                  0        0   \n",
       "607052                  0                0                  0        0   \n",
       "607053                  0                0                  0        0   \n",
       "607054                  0                0                  0        0   \n",
       "607055                  0                0                  0        0   \n",
       "\n",
       "        image_picker  account_page_click  promo_banner_click  \\\n",
       "0                  0                   0                   0   \n",
       "1                  0                   0                   0   \n",
       "2                  0                   0                   0   \n",
       "3                  0                   0                   0   \n",
       "4                  0                   0                   0   \n",
       "...              ...                 ...                 ...   \n",
       "607051             0                   0                   0   \n",
       "607052             0                   0                   0   \n",
       "607053             0                   0                   0   \n",
       "607054             0                   0                   0   \n",
       "607055             0                   0                   0   \n",
       "\n",
       "        detail_wishlist_add  list_size_dropdown  closed_minibasket_click  ...  \\\n",
       "0                         0                   0                        0  ...   \n",
       "1                         0                   0                        0  ...   \n",
       "2                         0                   0                        0  ...   \n",
       "3                         0                   0                        0  ...   \n",
       "4                         0                   1                        0  ...   \n",
       "...                     ...                 ...                      ...  ...   \n",
       "607051                    0                   0                        0  ...   \n",
       "607052                    0                   0                        0  ...   \n",
       "607053                    0                   0                        0  ...   \n",
       "607054                    0                   0                        0  ...   \n",
       "607055                    0                   1                        0  ...   \n",
       "\n",
       "        saw_sizecharts  saw_delivery  saw_account_upgrade  saw_homepage  \\\n",
       "0                    0             0                    0             0   \n",
       "1                    0             0                    0             0   \n",
       "2                    0             0                    0             0   \n",
       "3                    0             0                    0             0   \n",
       "4                    0             0                    0             1   \n",
       "...                ...           ...                  ...           ...   \n",
       "607051               0             0                    0             1   \n",
       "607052               0             0                    0             0   \n",
       "607053               0             0                    0             0   \n",
       "607054               0             0                    0             0   \n",
       "607055               0             0                    0             1   \n",
       "\n",
       "        device_mobile  device_computer  device_tablet  returning_user  loc_uk  \\\n",
       "0                   1                0              0               0       1   \n",
       "1                   1                0              0               0       1   \n",
       "2                   1                0              0               1       1   \n",
       "3                   1                0              0               1       1   \n",
       "4                   0                0              1               0       1   \n",
       "...               ...              ...            ...             ...     ...   \n",
       "607051              1                0              0               1       1   \n",
       "607052              1                0              0               1       0   \n",
       "607053              1                0              0               1       1   \n",
       "607054              1                0              0               1       1   \n",
       "607055              0                0              1               0       1   \n",
       "\n",
       "        ordered  \n",
       "0             0  \n",
       "1             0  \n",
       "2             0  \n",
       "3             0  \n",
       "4             1  \n",
       "...         ...  \n",
       "607051        0  \n",
       "607052        0  \n",
       "607053        0  \n",
       "607054        0  \n",
       "607055        0  \n",
       "\n",
       "[607056 rows x 21 columns]"
      ]
     },
     "execution_count": 13,
     "metadata": {},
     "output_type": "execute_result"
    }
   ],
   "source": [
    "data"
   ]
  },
  {
   "cell_type": "code",
   "execution_count": 14,
   "id": "9997acd8",
   "metadata": {},
   "outputs": [],
   "source": [
    "X = data.iloc[:,:-1]"
   ]
  },
  {
   "cell_type": "code",
   "execution_count": 15,
   "id": "3fc082f3",
   "metadata": {},
   "outputs": [],
   "source": [
    "y = data.iloc[:,-1]"
   ]
  },
  {
   "cell_type": "code",
   "execution_count": 16,
   "id": "c9f86f8b",
   "metadata": {},
   "outputs": [],
   "source": [
    "X_train, X_test, y_train, y_test = train_test_split(X, y, test_size=0.2, random_state=0)"
   ]
  },
  {
   "cell_type": "code",
   "execution_count": 17,
   "id": "574d5282",
   "metadata": {},
   "outputs": [],
   "source": [
    "X_train, X_valid, y_train, y_valid = train_test_split(X_train, y_train, test_size=0.2, random_state=0)"
   ]
  },
  {
   "cell_type": "code",
   "execution_count": 18,
   "id": "782dce83",
   "metadata": {},
   "outputs": [
    {
     "data": {
      "text/plain": [
       "(388515, 20)"
      ]
     },
     "execution_count": 18,
     "metadata": {},
     "output_type": "execute_result"
    }
   ],
   "source": [
    "X_train.shape"
   ]
  },
  {
   "cell_type": "code",
   "execution_count": 19,
   "id": "67dfb472",
   "metadata": {
    "scrolled": true
   },
   "outputs": [
    {
     "data": {
      "text/plain": [
       "(121412, 20)"
      ]
     },
     "execution_count": 19,
     "metadata": {},
     "output_type": "execute_result"
    }
   ],
   "source": [
    "X_test.shape"
   ]
  },
  {
   "cell_type": "code",
   "execution_count": 20,
   "id": "6362b751",
   "metadata": {},
   "outputs": [],
   "source": [
    "data_dm = xgb.DMatrix(data=X_train.values, label=y_train.values)"
   ]
  },
  {
   "cell_type": "code",
   "execution_count": 21,
   "id": "e7018f79",
   "metadata": {},
   "outputs": [
    {
     "data": {
      "text/plain": [
       "<AxesSubplot:>"
      ]
     },
     "execution_count": 21,
     "metadata": {},
     "output_type": "execute_result"
    },
    {
     "data": {
      "image/png": "[encoded data removed]",
      "text/plain": [
       "<Figure size 432x288 with 2 Axes>"
      ]
     },
     "metadata": {
      "needs_background": "light"
     },
     "output_type": "display_data"
    }
   ],
   "source": [
    "sns.heatmap(data.corr())"
   ]
  },
  {
   "cell_type": "code",
   "execution_count": 22,
   "id": "994793fa",
   "metadata": {
    "scrolled": true
   },
   "outputs": [
    {
     "data": {
      "text/plain": [
       "basket_icon_click           9.29\n",
       "basket_add_list             7.11\n",
       "basket_add_detail          10.61\n",
       "sort_by                     3.67\n",
       "image_picker                2.64\n",
       "account_page_click          0.35\n",
       "promo_banner_click          1.57\n",
       "detail_wishlist_add         0.34\n",
       "list_size_dropdown         22.68\n",
       "closed_minibasket_click     1.63\n",
       "checked_returns_detail      0.91\n",
       "saw_sizecharts              0.04\n",
       "saw_delivery                0.54\n",
       "saw_account_upgrade         0.11\n",
       "saw_homepage               28.89\n",
       "device_mobile              68.09\n",
       "device_computer            19.58\n",
       "device_tablet              12.63\n",
       "returning_user             53.35\n",
       "loc_uk                     93.20\n",
       "ordered                     3.15\n",
       "dtype: float64"
      ]
     },
     "execution_count": 22,
     "metadata": {},
     "output_type": "execute_result"
    }
   ],
   "source": [
    "# Sprawdzanie niezbilansowania bazy\n",
    "round((data[data == 1].count()/len(data))*100,2)"
   ]
  },
  {
   "cell_type": "code",
   "execution_count": 23,
   "id": "d1887aa2",
   "metadata": {},
   "outputs": [],
   "source": [
    "positive_ordered = data[data['ordered']==1]"
   ]
  },
  {
   "cell_type": "code",
   "execution_count": 24,
   "id": "4d8e855f",
   "metadata": {
    "scrolled": true
   },
   "outputs": [
    {
     "data": {
      "text/plain": [
       "basket_icon_click          28.89\n",
       "basket_add_list            56.43\n",
       "basket_add_detail          26.01\n",
       "sort_by                    91.39\n",
       "image_picker               91.81\n",
       "account_page_click         98.01\n",
       "promo_banner_click         94.97\n",
       "detail_wishlist_add        98.98\n",
       "list_size_dropdown         45.79\n",
       "closed_minibasket_click    89.55\n",
       "checked_returns_detail     96.37\n",
       "saw_sizecharts             99.89\n",
       "saw_delivery               98.33\n",
       "saw_account_upgrade        99.48\n",
       "saw_homepage               36.77\n",
       "device_mobile              41.49\n",
       "device_computer            71.27\n",
       "device_tablet              84.46\n",
       "returning_user             32.13\n",
       "loc_uk                      2.90\n",
       "ordered                     0.00\n",
       "dtype: float64"
      ]
     },
     "execution_count": 24,
     "metadata": {},
     "output_type": "execute_result"
    }
   ],
   "source": [
    "# Sprawdzanie niezbilansowania bazy\n",
    "round((positive_ordered[positive_ordered == 0].count()/len(positive_ordered))*100,2)"
   ]
  },
  {
   "cell_type": "code",
   "execution_count": 25,
   "id": "6e770740",
   "metadata": {
    "scrolled": true
   },
   "outputs": [],
   "source": [
    "# Oblicznie stosunku 0 do 1 - argument do xgb classifier żeby zrównoważyć dane\n",
    "\n",
    "neg_samples = np.sum(y == 0)\n",
    "pos_samples = np.sum(y == 1)\n",
    "scale_pos_weight = neg_samples / pos_samples"
   ]
  },
  {
   "cell_type": "code",
   "execution_count": 26,
   "id": "5389bfbd",
   "metadata": {},
   "outputs": [],
   "source": [
    "# Modele na początek\n",
    "lr = LogisticRegression(class_weight='balanced')\n",
    "dt = DecisionTreeClassifier(class_weight='balanced')\n",
    "rf = RandomForestClassifier(class_weight='balanced')\n",
    "nb = GaussianNB() \n",
    "xgb_cl = xgb.XGBClassifier(scale_pos_weight=scale_pos_weight)"
   ]
  },
  {
   "cell_type": "code",
   "execution_count": 27,
   "id": "996e199f",
   "metadata": {},
   "outputs": [],
   "source": [
    "# Lista modeli\n",
    "models = [lr, dt, rf, nb, xgb_cl]"
   ]
  },
  {
   "cell_type": "code",
   "execution_count": 28,
   "id": "ff32f105",
   "metadata": {},
   "outputs": [],
   "source": [
    "# Metryki\n",
    "scoring = ['accuracy', 'precision_macro', 'recall_macro', 'f1_macro', 'roc_auc']"
   ]
  },
  {
   "cell_type": "code",
   "execution_count": 29,
   "id": "6bfbf485",
   "metadata": {},
   "outputs": [
    {
     "name": "stdout",
     "output_type": "stream",
     "text": [
      "Dla LogisticRegression: Accuracy: 0.899 | F1 Score: 0.651 | AUC Score: 0.946 | Precision: 0.61 | Recall: 0.895\n"
     ]
    },
    {
     "data": {
      "image/png": "[encoded data removed]",
      "text/plain": [
       "<Figure size 432x288 with 2 Axes>"
      ]
     },
     "metadata": {
      "needs_background": "light"
     },
     "output_type": "display_data"
    },
    {
     "name": "stdout",
     "output_type": "stream",
     "text": [
      "Dla DecisionTreeClassifier: Accuracy: 0.883 | F1 Score: 0.631 | AUC Score: 0.903 | Precision: 0.598 | Recall: 0.889\n"
     ]
    },
    {
     "data": {
      "image/png": "[encoded data removed]",
      "text/plain": [
       "<Figure size 432x288 with 2 Axes>"
      ]
     },
     "metadata": {
      "needs_background": "light"
     },
     "output_type": "display_data"
    },
    {
     "name": "stdout",
     "output_type": "stream",
     "text": [
      "Dla RandomForestClassifier: Accuracy: 0.885 | F1 Score: 0.634 | AUC Score: 0.93 | Precision: 0.599 | Recall: 0.888\n"
     ]
    },
    {
     "data": {
      "image/png": "[encoded data removed]",
      "text/plain": [
       "<Figure size 432x288 with 2 Axes>"
      ]
     },
     "metadata": {
      "needs_background": "light"
     },
     "output_type": "display_data"
    },
    {
     "name": "stdout",
     "output_type": "stream",
     "text": [
      "Dla GaussianNB: Accuracy: 0.903 | F1 Score: 0.612 | AUC Score: 0.903 | Precision: 0.583 | Recall: 0.75\n"
     ]
    },
    {
     "data": {
      "image/png": "[encoded data removed]",
      "text/plain": [
       "<Figure size 432x288 with 2 Axes>"
      ]
     },
     "metadata": {
      "needs_background": "light"
     },
     "output_type": "display_data"
    },
    {
     "name": "stdout",
     "output_type": "stream",
     "text": [
      "Dla XGBClassifier: Accuracy: 0.879 | F1 Score: 0.631 | AUC Score: 0.948 | Precision: 0.598 | Recall: 0.905\n"
     ]
    },
    {
     "data": {
      "image/png": "[encoded data removed]",
      "text/plain": [
       "<Figure size 432x288 with 2 Axes>"
      ]
     },
     "metadata": {
      "needs_background": "light"
     },
     "output_type": "display_data"
    }
   ],
   "source": [
    "results = []\n",
    "\n",
    "for model in models:\n",
    "    # Trenowanie\n",
    "    model.fit(X_train, y_train) \n",
    "    \n",
    "    # Crossvalidation\n",
    "    scores = cross_validate(model, X_train, y_train, scoring=scoring, cv=10)\n",
    "    \n",
    "    # Wyciąganie metryk\n",
    "    accuracy = round(np.mean(scores['test_accuracy']),3)\n",
    "    f1 = round(np.mean(scores['test_f1_macro']),3)\n",
    "    AUC = round(np.mean(scores['test_roc_auc']),3)\n",
    "    precision = round(np.mean(scores['test_precision_macro']),3)\n",
    "    recall = round(np.mean(scores['test_recall_macro']),3)\n",
    "    \n",
    "    # Macierz pomyłek\n",
    "    y_pred = model.predict(X_train)\n",
    "    cm = confusion_matrix(y_train, y_pred)\n",
    "    \n",
    "    # Metryki do listy pod df\n",
    "    results.append({\n",
    "        'model': model.__class__.__name__,\n",
    "        'auc': AUC,\n",
    "        'accuracy': accuracy,\n",
    "        'f1': f1,\n",
    "        'precision': precision,\n",
    "        'recall': recall\n",
    "    })\n",
    "    \n",
    "    # Wydruk\n",
    "    print('Dla {}: Accuracy: {} | F1 Score: {} | AUC Score: {} | Precision: {} | Recall: {}'.format(type(model).__name__, accuracy, f1, AUC, precision, recall))\n",
    "    \n",
    "    # Macierz pomyłek graficznie\n",
    "    disp = ConfusionMatrixDisplay(confusion_matrix=cm, display_labels=model.classes_)\n",
    "    disp.plot()\n",
    "    plt.show()  "
   ]
  },
  {
   "cell_type": "code",
   "execution_count": 31,
   "id": "9e145dff",
   "metadata": {},
   "outputs": [
    {
     "data": {
      "text/html": [
       "<div>\n",
       "<style scoped>\n",
       "    .dataframe tbody tr th:only-of-type {\n",
       "        vertical-align: middle;\n",
       "    }\n",
       "\n",
       "    .dataframe tbody tr th {\n",
       "        vertical-align: top;\n",
       "    }\n",
       "\n",
       "    .dataframe thead th {\n",
       "        text-align: right;\n",
       "    }\n",
       "</style>\n",
       "<table border=\"1\" class=\"dataframe\">\n",
       "  <thead>\n",
       "    <tr style=\"text-align: right;\">\n",
       "      <th></th>\n",
       "      <th>model</th>\n",
       "      <th>auc</th>\n",
       "      <th>accuracy</th>\n",
       "      <th>f1</th>\n",
       "      <th>precision</th>\n",
       "      <th>recall</th>\n",
       "    </tr>\n",
       "  </thead>\n",
       "  <tbody>\n",
       "    <tr>\n",
       "      <th>0</th>\n",
       "      <td>LogisticRegression</td>\n",
       "      <td>0.946</td>\n",
       "      <td>0.899</td>\n",
       "      <td>0.651</td>\n",
       "      <td>0.610</td>\n",
       "      <td>0.895</td>\n",
       "    </tr>\n",
       "    <tr>\n",
       "      <th>1</th>\n",
       "      <td>DecisionTreeClassifier</td>\n",
       "      <td>0.903</td>\n",
       "      <td>0.883</td>\n",
       "      <td>0.631</td>\n",
       "      <td>0.598</td>\n",
       "      <td>0.889</td>\n",
       "    </tr>\n",
       "    <tr>\n",
       "      <th>2</th>\n",
       "      <td>RandomForestClassifier</td>\n",
       "      <td>0.930</td>\n",
       "      <td>0.885</td>\n",
       "      <td>0.634</td>\n",
       "      <td>0.599</td>\n",
       "      <td>0.888</td>\n",
       "    </tr>\n",
       "    <tr>\n",
       "      <th>3</th>\n",
       "      <td>GaussianNB</td>\n",
       "      <td>0.903</td>\n",
       "      <td>0.903</td>\n",
       "      <td>0.612</td>\n",
       "      <td>0.583</td>\n",
       "      <td>0.750</td>\n",
       "    </tr>\n",
       "    <tr>\n",
       "      <th>4</th>\n",
       "      <td>XGBClassifier</td>\n",
       "      <td>0.948</td>\n",
       "      <td>0.879</td>\n",
       "      <td>0.631</td>\n",
       "      <td>0.598</td>\n",
       "      <td>0.905</td>\n",
       "    </tr>\n",
       "  </tbody>\n",
       "</table>\n",
       "</div>"
      ],
      "text/plain": [
       "                    model    auc  accuracy     f1  precision  recall\n",
       "0      LogisticRegression  0.946     0.899  0.651      0.610   0.895\n",
       "1  DecisionTreeClassifier  0.903     0.883  0.631      0.598   0.889\n",
       "2  RandomForestClassifier  0.930     0.885  0.634      0.599   0.888\n",
       "3              GaussianNB  0.903     0.903  0.612      0.583   0.750\n",
       "4           XGBClassifier  0.948     0.879  0.631      0.598   0.905"
      ]
     },
     "execution_count": 31,
     "metadata": {},
     "output_type": "execute_result"
    }
   ],
   "source": [
    "# Porównanie metryk powyższych modeli w df\n",
    "results_df = pd.DataFrame.from_records(results) \n",
    "results_df"
   ]
  },
  {
   "cell_type": "code",
   "execution_count": 32,
   "id": "3ff0e0f0",
   "metadata": {
    "scrolled": false
   },
   "outputs": [
    {
     "name": "stdout",
     "output_type": "stream",
     "text": [
      "Krzywa ROC dla LogisticRegression\n"
     ]
    },
    {
     "data": {
      "image/png": "[encoded data removed]",
      "text/plain": [
       "<Figure size 1080x720 with 1 Axes>"
      ]
     },
     "metadata": {
      "needs_background": "light"
     },
     "output_type": "display_data"
    },
    {
     "name": "stdout",
     "output_type": "stream",
     "text": [
      "Krzywa ROC dla DecisionTreeClassifier\n"
     ]
    },
    {
     "data": {
      "image/png": "[encoded data removed]",
      "text/plain": [
       "<Figure size 1080x720 with 1 Axes>"
      ]
     },
     "metadata": {
      "needs_background": "light"
     },
     "output_type": "display_data"
    },
    {
     "name": "stdout",
     "output_type": "stream",
     "text": [
      "Krzywa ROC dla RandomForestClassifier\n"
     ]
    },
    {
     "data": {
      "image/png": "[encoded data removed]",
      "text/plain": [
       "<Figure size 1080x720 with 1 Axes>"
      ]
     },
     "metadata": {
      "needs_background": "light"
     },
     "output_type": "display_data"
    },
    {
     "name": "stdout",
     "output_type": "stream",
     "text": [
      "Krzywa ROC dla GaussianNB\n"
     ]
    },
    {
     "data": {
      "image/png": "[encoded data removed]",
      "text/plain": [
       "<Figure size 1080x720 with 1 Axes>"
      ]
     },
     "metadata": {
      "needs_background": "light"
     },
     "output_type": "display_data"
    },
    {
     "name": "stdout",
     "output_type": "stream",
     "text": [
      "Krzywa ROC dla XGBClassifier\n"
     ]
    },
    {
     "data": {
      "image/png": "[encoded data removed]",
      "text/plain": [
       "<Figure size 1080x720 with 1 Axes>"
      ]
     },
     "metadata": {
      "needs_background": "light"
     },
     "output_type": "display_data"
    }
   ],
   "source": [
    "# Krzywe ROC (czy dobre dane czy powinny być testowe?)\n",
    "for model in models:\n",
    "    probas = model.predict_proba(X_valid)\n",
    "    positive_proba = probas[:, 1]\n",
    "    false_positive_rate, true_positive_rate, thresholds = roc_curve(y_valid, positive_proba)\n",
    "    print('Krzywa ROC dla {}'.format(type(model).__name__))\n",
    "    plt.figure(figsize=(15, 10))\n",
    "    plt.plot(false_positive_rate, true_positive_rate)\n",
    "    plt.xlabel(\"False positive rate\")\n",
    "    plt.ylabel(\"True positive rate\")\n",
    "    plt.show()\n",
    " "
   ]
  },
  {
   "cell_type": "code",
   "execution_count": 33,
   "id": "ca07c50b",
   "metadata": {},
   "outputs": [],
   "source": [
    "results2 = []\n",
    "for model in models:   \n",
    "    model.fit(X_train, y_train)\n",
    "    y_pred = model.predict_proba(X_valid)[:, 1]\n",
    "    for i in [0.1, 0.2, 0.3, 0.4, 0.5, 0.6, 0.7, 0.8, 0.9]:\n",
    "        y_pred_labels = np.where(y_pred > i, 1, 0)\n",
    "        results2.append({\n",
    "            \"model\": model.__class__.__name__,\n",
    "            \"threshold\": i,\n",
    "            \"auc\": round(roc_auc_score(y_valid, y_pred_labels),2),\n",
    "            \"accuracy\": round(accuracy_score(y_valid, y_pred_labels),2),\n",
    "            \"f1\": round(f1_score(y_valid, y_pred_labels),2),\n",
    "            \"recall\": round(recall_score(y_valid, y_pred_labels),2),\n",
    "            \"precision\": round(precision_score(y_valid, y_pred_labels),2)\n",
    "            })\n"
   ]
  },
  {
   "cell_type": "code",
   "execution_count": 34,
   "id": "08571a29",
   "metadata": {},
   "outputs": [],
   "source": [
    "results_df2 = pd.DataFrame.from_records(results2)"
   ]
  },
  {
   "cell_type": "code",
   "execution_count": 35,
   "id": "d733d986",
   "metadata": {
    "scrolled": false
   },
   "outputs": [
    {
     "data": {
      "text/html": [
       "<div>\n",
       "<style scoped>\n",
       "    .dataframe tbody tr th:only-of-type {\n",
       "        vertical-align: middle;\n",
       "    }\n",
       "\n",
       "    .dataframe tbody tr th {\n",
       "        vertical-align: top;\n",
       "    }\n",
       "\n",
       "    .dataframe thead th {\n",
       "        text-align: right;\n",
       "    }\n",
       "</style>\n",
       "<table border=\"1\" class=\"dataframe\">\n",
       "  <thead>\n",
       "    <tr style=\"text-align: right;\">\n",
       "      <th></th>\n",
       "      <th>model</th>\n",
       "      <th>threshold</th>\n",
       "      <th>auc</th>\n",
       "      <th>accuracy</th>\n",
       "      <th>f1</th>\n",
       "      <th>recall</th>\n",
       "      <th>precision</th>\n",
       "    </tr>\n",
       "  </thead>\n",
       "  <tbody>\n",
       "    <tr>\n",
       "      <th>44</th>\n",
       "      <td>XGBClassifier</td>\n",
       "      <td>0.9</td>\n",
       "      <td>0.75</td>\n",
       "      <td>0.95</td>\n",
       "      <td>0.40</td>\n",
       "      <td>0.54</td>\n",
       "      <td>0.31</td>\n",
       "    </tr>\n",
       "    <tr>\n",
       "      <th>17</th>\n",
       "      <td>DecisionTreeClassifier</td>\n",
       "      <td>0.9</td>\n",
       "      <td>0.75</td>\n",
       "      <td>0.95</td>\n",
       "      <td>0.39</td>\n",
       "      <td>0.53</td>\n",
       "      <td>0.31</td>\n",
       "    </tr>\n",
       "    <tr>\n",
       "      <th>26</th>\n",
       "      <td>RandomForestClassifier</td>\n",
       "      <td>0.9</td>\n",
       "      <td>0.72</td>\n",
       "      <td>0.95</td>\n",
       "      <td>0.38</td>\n",
       "      <td>0.48</td>\n",
       "      <td>0.31</td>\n",
       "    </tr>\n",
       "    <tr>\n",
       "      <th>8</th>\n",
       "      <td>LogisticRegression</td>\n",
       "      <td>0.9</td>\n",
       "      <td>0.77</td>\n",
       "      <td>0.94</td>\n",
       "      <td>0.39</td>\n",
       "      <td>0.58</td>\n",
       "      <td>0.29</td>\n",
       "    </tr>\n",
       "    <tr>\n",
       "      <th>7</th>\n",
       "      <td>LogisticRegression</td>\n",
       "      <td>0.8</td>\n",
       "      <td>0.81</td>\n",
       "      <td>0.93</td>\n",
       "      <td>0.38</td>\n",
       "      <td>0.69</td>\n",
       "      <td>0.26</td>\n",
       "    </tr>\n",
       "    <tr>\n",
       "      <th>6</th>\n",
       "      <td>LogisticRegression</td>\n",
       "      <td>0.7</td>\n",
       "      <td>0.84</td>\n",
       "      <td>0.92</td>\n",
       "      <td>0.38</td>\n",
       "      <td>0.75</td>\n",
       "      <td>0.25</td>\n",
       "    </tr>\n",
       "    <tr>\n",
       "      <th>43</th>\n",
       "      <td>XGBClassifier</td>\n",
       "      <td>0.8</td>\n",
       "      <td>0.86</td>\n",
       "      <td>0.92</td>\n",
       "      <td>0.38</td>\n",
       "      <td>0.80</td>\n",
       "      <td>0.25</td>\n",
       "    </tr>\n",
       "    <tr>\n",
       "      <th>25</th>\n",
       "      <td>RandomForestClassifier</td>\n",
       "      <td>0.8</td>\n",
       "      <td>0.83</td>\n",
       "      <td>0.92</td>\n",
       "      <td>0.38</td>\n",
       "      <td>0.74</td>\n",
       "      <td>0.25</td>\n",
       "    </tr>\n",
       "    <tr>\n",
       "      <th>16</th>\n",
       "      <td>DecisionTreeClassifier</td>\n",
       "      <td>0.8</td>\n",
       "      <td>0.85</td>\n",
       "      <td>0.92</td>\n",
       "      <td>0.38</td>\n",
       "      <td>0.78</td>\n",
       "      <td>0.25</td>\n",
       "    </tr>\n",
       "    <tr>\n",
       "      <th>5</th>\n",
       "      <td>LogisticRegression</td>\n",
       "      <td>0.6</td>\n",
       "      <td>0.88</td>\n",
       "      <td>0.91</td>\n",
       "      <td>0.36</td>\n",
       "      <td>0.86</td>\n",
       "      <td>0.23</td>\n",
       "    </tr>\n",
       "    <tr>\n",
       "      <th>4</th>\n",
       "      <td>LogisticRegression</td>\n",
       "      <td>0.5</td>\n",
       "      <td>0.89</td>\n",
       "      <td>0.90</td>\n",
       "      <td>0.35</td>\n",
       "      <td>0.88</td>\n",
       "      <td>0.22</td>\n",
       "    </tr>\n",
       "    <tr>\n",
       "      <th>24</th>\n",
       "      <td>RandomForestClassifier</td>\n",
       "      <td>0.7</td>\n",
       "      <td>0.87</td>\n",
       "      <td>0.90</td>\n",
       "      <td>0.34</td>\n",
       "      <td>0.84</td>\n",
       "      <td>0.22</td>\n",
       "    </tr>\n",
       "    <tr>\n",
       "      <th>42</th>\n",
       "      <td>XGBClassifier</td>\n",
       "      <td>0.7</td>\n",
       "      <td>0.90</td>\n",
       "      <td>0.89</td>\n",
       "      <td>0.34</td>\n",
       "      <td>0.90</td>\n",
       "      <td>0.21</td>\n",
       "    </tr>\n",
       "    <tr>\n",
       "      <th>41</th>\n",
       "      <td>XGBClassifier</td>\n",
       "      <td>0.6</td>\n",
       "      <td>0.90</td>\n",
       "      <td>0.89</td>\n",
       "      <td>0.34</td>\n",
       "      <td>0.91</td>\n",
       "      <td>0.21</td>\n",
       "    </tr>\n",
       "    <tr>\n",
       "      <th>23</th>\n",
       "      <td>RandomForestClassifier</td>\n",
       "      <td>0.6</td>\n",
       "      <td>0.88</td>\n",
       "      <td>0.90</td>\n",
       "      <td>0.34</td>\n",
       "      <td>0.87</td>\n",
       "      <td>0.21</td>\n",
       "    </tr>\n",
       "    <tr>\n",
       "      <th>14</th>\n",
       "      <td>DecisionTreeClassifier</td>\n",
       "      <td>0.6</td>\n",
       "      <td>0.89</td>\n",
       "      <td>0.89</td>\n",
       "      <td>0.34</td>\n",
       "      <td>0.89</td>\n",
       "      <td>0.21</td>\n",
       "    </tr>\n",
       "    <tr>\n",
       "      <th>15</th>\n",
       "      <td>DecisionTreeClassifier</td>\n",
       "      <td>0.7</td>\n",
       "      <td>0.89</td>\n",
       "      <td>0.89</td>\n",
       "      <td>0.34</td>\n",
       "      <td>0.88</td>\n",
       "      <td>0.21</td>\n",
       "    </tr>\n",
       "    <tr>\n",
       "      <th>22</th>\n",
       "      <td>RandomForestClassifier</td>\n",
       "      <td>0.5</td>\n",
       "      <td>0.89</td>\n",
       "      <td>0.88</td>\n",
       "      <td>0.32</td>\n",
       "      <td>0.90</td>\n",
       "      <td>0.20</td>\n",
       "    </tr>\n",
       "    <tr>\n",
       "      <th>3</th>\n",
       "      <td>LogisticRegression</td>\n",
       "      <td>0.4</td>\n",
       "      <td>0.91</td>\n",
       "      <td>0.88</td>\n",
       "      <td>0.33</td>\n",
       "      <td>0.94</td>\n",
       "      <td>0.20</td>\n",
       "    </tr>\n",
       "    <tr>\n",
       "      <th>40</th>\n",
       "      <td>XGBClassifier</td>\n",
       "      <td>0.5</td>\n",
       "      <td>0.91</td>\n",
       "      <td>0.88</td>\n",
       "      <td>0.32</td>\n",
       "      <td>0.94</td>\n",
       "      <td>0.19</td>\n",
       "    </tr>\n",
       "    <tr>\n",
       "      <th>39</th>\n",
       "      <td>XGBClassifier</td>\n",
       "      <td>0.4</td>\n",
       "      <td>0.91</td>\n",
       "      <td>0.87</td>\n",
       "      <td>0.31</td>\n",
       "      <td>0.94</td>\n",
       "      <td>0.19</td>\n",
       "    </tr>\n",
       "    <tr>\n",
       "      <th>21</th>\n",
       "      <td>RandomForestClassifier</td>\n",
       "      <td>0.4</td>\n",
       "      <td>0.89</td>\n",
       "      <td>0.88</td>\n",
       "      <td>0.31</td>\n",
       "      <td>0.91</td>\n",
       "      <td>0.19</td>\n",
       "    </tr>\n",
       "    <tr>\n",
       "      <th>13</th>\n",
       "      <td>DecisionTreeClassifier</td>\n",
       "      <td>0.5</td>\n",
       "      <td>0.89</td>\n",
       "      <td>0.88</td>\n",
       "      <td>0.32</td>\n",
       "      <td>0.90</td>\n",
       "      <td>0.19</td>\n",
       "    </tr>\n",
       "    <tr>\n",
       "      <th>2</th>\n",
       "      <td>LogisticRegression</td>\n",
       "      <td>0.3</td>\n",
       "      <td>0.91</td>\n",
       "      <td>0.87</td>\n",
       "      <td>0.32</td>\n",
       "      <td>0.95</td>\n",
       "      <td>0.19</td>\n",
       "    </tr>\n",
       "    <tr>\n",
       "      <th>30</th>\n",
       "      <td>GaussianNB</td>\n",
       "      <td>0.4</td>\n",
       "      <td>0.76</td>\n",
       "      <td>0.90</td>\n",
       "      <td>0.27</td>\n",
       "      <td>0.61</td>\n",
       "      <td>0.18</td>\n",
       "    </tr>\n",
       "    <tr>\n",
       "      <th>38</th>\n",
       "      <td>XGBClassifier</td>\n",
       "      <td>0.3</td>\n",
       "      <td>0.91</td>\n",
       "      <td>0.87</td>\n",
       "      <td>0.31</td>\n",
       "      <td>0.95</td>\n",
       "      <td>0.18</td>\n",
       "    </tr>\n",
       "    <tr>\n",
       "      <th>35</th>\n",
       "      <td>GaussianNB</td>\n",
       "      <td>0.9</td>\n",
       "      <td>0.70</td>\n",
       "      <td>0.92</td>\n",
       "      <td>0.26</td>\n",
       "      <td>0.46</td>\n",
       "      <td>0.18</td>\n",
       "    </tr>\n",
       "    <tr>\n",
       "      <th>34</th>\n",
       "      <td>GaussianNB</td>\n",
       "      <td>0.8</td>\n",
       "      <td>0.72</td>\n",
       "      <td>0.91</td>\n",
       "      <td>0.27</td>\n",
       "      <td>0.51</td>\n",
       "      <td>0.18</td>\n",
       "    </tr>\n",
       "    <tr>\n",
       "      <th>33</th>\n",
       "      <td>GaussianNB</td>\n",
       "      <td>0.7</td>\n",
       "      <td>0.73</td>\n",
       "      <td>0.91</td>\n",
       "      <td>0.27</td>\n",
       "      <td>0.55</td>\n",
       "      <td>0.18</td>\n",
       "    </tr>\n",
       "    <tr>\n",
       "      <th>32</th>\n",
       "      <td>GaussianNB</td>\n",
       "      <td>0.6</td>\n",
       "      <td>0.75</td>\n",
       "      <td>0.91</td>\n",
       "      <td>0.28</td>\n",
       "      <td>0.58</td>\n",
       "      <td>0.18</td>\n",
       "    </tr>\n",
       "    <tr>\n",
       "      <th>31</th>\n",
       "      <td>GaussianNB</td>\n",
       "      <td>0.5</td>\n",
       "      <td>0.75</td>\n",
       "      <td>0.90</td>\n",
       "      <td>0.28</td>\n",
       "      <td>0.59</td>\n",
       "      <td>0.18</td>\n",
       "    </tr>\n",
       "    <tr>\n",
       "      <th>28</th>\n",
       "      <td>GaussianNB</td>\n",
       "      <td>0.2</td>\n",
       "      <td>0.78</td>\n",
       "      <td>0.89</td>\n",
       "      <td>0.28</td>\n",
       "      <td>0.66</td>\n",
       "      <td>0.18</td>\n",
       "    </tr>\n",
       "    <tr>\n",
       "      <th>11</th>\n",
       "      <td>DecisionTreeClassifier</td>\n",
       "      <td>0.3</td>\n",
       "      <td>0.89</td>\n",
       "      <td>0.87</td>\n",
       "      <td>0.30</td>\n",
       "      <td>0.92</td>\n",
       "      <td>0.18</td>\n",
       "    </tr>\n",
       "    <tr>\n",
       "      <th>12</th>\n",
       "      <td>DecisionTreeClassifier</td>\n",
       "      <td>0.4</td>\n",
       "      <td>0.89</td>\n",
       "      <td>0.87</td>\n",
       "      <td>0.31</td>\n",
       "      <td>0.91</td>\n",
       "      <td>0.18</td>\n",
       "    </tr>\n",
       "    <tr>\n",
       "      <th>20</th>\n",
       "      <td>RandomForestClassifier</td>\n",
       "      <td>0.3</td>\n",
       "      <td>0.90</td>\n",
       "      <td>0.87</td>\n",
       "      <td>0.31</td>\n",
       "      <td>0.93</td>\n",
       "      <td>0.18</td>\n",
       "    </tr>\n",
       "    <tr>\n",
       "      <th>29</th>\n",
       "      <td>GaussianNB</td>\n",
       "      <td>0.3</td>\n",
       "      <td>0.76</td>\n",
       "      <td>0.90</td>\n",
       "      <td>0.28</td>\n",
       "      <td>0.62</td>\n",
       "      <td>0.18</td>\n",
       "    </tr>\n",
       "    <tr>\n",
       "      <th>27</th>\n",
       "      <td>GaussianNB</td>\n",
       "      <td>0.1</td>\n",
       "      <td>0.79</td>\n",
       "      <td>0.89</td>\n",
       "      <td>0.28</td>\n",
       "      <td>0.69</td>\n",
       "      <td>0.17</td>\n",
       "    </tr>\n",
       "    <tr>\n",
       "      <th>19</th>\n",
       "      <td>RandomForestClassifier</td>\n",
       "      <td>0.2</td>\n",
       "      <td>0.89</td>\n",
       "      <td>0.85</td>\n",
       "      <td>0.28</td>\n",
       "      <td>0.93</td>\n",
       "      <td>0.16</td>\n",
       "    </tr>\n",
       "    <tr>\n",
       "      <th>10</th>\n",
       "      <td>DecisionTreeClassifier</td>\n",
       "      <td>0.2</td>\n",
       "      <td>0.88</td>\n",
       "      <td>0.85</td>\n",
       "      <td>0.28</td>\n",
       "      <td>0.92</td>\n",
       "      <td>0.16</td>\n",
       "    </tr>\n",
       "    <tr>\n",
       "      <th>37</th>\n",
       "      <td>XGBClassifier</td>\n",
       "      <td>0.2</td>\n",
       "      <td>0.90</td>\n",
       "      <td>0.85</td>\n",
       "      <td>0.28</td>\n",
       "      <td>0.96</td>\n",
       "      <td>0.16</td>\n",
       "    </tr>\n",
       "    <tr>\n",
       "      <th>1</th>\n",
       "      <td>LogisticRegression</td>\n",
       "      <td>0.2</td>\n",
       "      <td>0.90</td>\n",
       "      <td>0.84</td>\n",
       "      <td>0.28</td>\n",
       "      <td>0.97</td>\n",
       "      <td>0.16</td>\n",
       "    </tr>\n",
       "    <tr>\n",
       "      <th>18</th>\n",
       "      <td>RandomForestClassifier</td>\n",
       "      <td>0.1</td>\n",
       "      <td>0.86</td>\n",
       "      <td>0.77</td>\n",
       "      <td>0.21</td>\n",
       "      <td>0.96</td>\n",
       "      <td>0.12</td>\n",
       "    </tr>\n",
       "    <tr>\n",
       "      <th>36</th>\n",
       "      <td>XGBClassifier</td>\n",
       "      <td>0.1</td>\n",
       "      <td>0.87</td>\n",
       "      <td>0.77</td>\n",
       "      <td>0.21</td>\n",
       "      <td>0.98</td>\n",
       "      <td>0.12</td>\n",
       "    </tr>\n",
       "    <tr>\n",
       "      <th>9</th>\n",
       "      <td>DecisionTreeClassifier</td>\n",
       "      <td>0.1</td>\n",
       "      <td>0.85</td>\n",
       "      <td>0.77</td>\n",
       "      <td>0.20</td>\n",
       "      <td>0.93</td>\n",
       "      <td>0.11</td>\n",
       "    </tr>\n",
       "    <tr>\n",
       "      <th>0</th>\n",
       "      <td>LogisticRegression</td>\n",
       "      <td>0.1</td>\n",
       "      <td>0.83</td>\n",
       "      <td>0.69</td>\n",
       "      <td>0.16</td>\n",
       "      <td>0.99</td>\n",
       "      <td>0.09</td>\n",
       "    </tr>\n",
       "  </tbody>\n",
       "</table>\n",
       "</div>"
      ],
      "text/plain": [
       "                     model  threshold   auc  accuracy    f1  recall  precision\n",
       "44           XGBClassifier        0.9  0.75      0.95  0.40    0.54       0.31\n",
       "17  DecisionTreeClassifier        0.9  0.75      0.95  0.39    0.53       0.31\n",
       "26  RandomForestClassifier        0.9  0.72      0.95  0.38    0.48       0.31\n",
       "8       LogisticRegression        0.9  0.77      0.94  0.39    0.58       0.29\n",
       "7       LogisticRegression        0.8  0.81      0.93  0.38    0.69       0.26\n",
       "6       LogisticRegression        0.7  0.84      0.92  0.38    0.75       0.25\n",
       "43           XGBClassifier        0.8  0.86      0.92  0.38    0.80       0.25\n",
       "25  RandomForestClassifier        0.8  0.83      0.92  0.38    0.74       0.25\n",
       "16  DecisionTreeClassifier        0.8  0.85      0.92  0.38    0.78       0.25\n",
       "5       LogisticRegression        0.6  0.88      0.91  0.36    0.86       0.23\n",
       "4       LogisticRegression        0.5  0.89      0.90  0.35    0.88       0.22\n",
       "24  RandomForestClassifier        0.7  0.87      0.90  0.34    0.84       0.22\n",
       "42           XGBClassifier        0.7  0.90      0.89  0.34    0.90       0.21\n",
       "41           XGBClassifier        0.6  0.90      0.89  0.34    0.91       0.21\n",
       "23  RandomForestClassifier        0.6  0.88      0.90  0.34    0.87       0.21\n",
       "14  DecisionTreeClassifier        0.6  0.89      0.89  0.34    0.89       0.21\n",
       "15  DecisionTreeClassifier        0.7  0.89      0.89  0.34    0.88       0.21\n",
       "22  RandomForestClassifier        0.5  0.89      0.88  0.32    0.90       0.20\n",
       "3       LogisticRegression        0.4  0.91      0.88  0.33    0.94       0.20\n",
       "40           XGBClassifier        0.5  0.91      0.88  0.32    0.94       0.19\n",
       "39           XGBClassifier        0.4  0.91      0.87  0.31    0.94       0.19\n",
       "21  RandomForestClassifier        0.4  0.89      0.88  0.31    0.91       0.19\n",
       "13  DecisionTreeClassifier        0.5  0.89      0.88  0.32    0.90       0.19\n",
       "2       LogisticRegression        0.3  0.91      0.87  0.32    0.95       0.19\n",
       "30              GaussianNB        0.4  0.76      0.90  0.27    0.61       0.18\n",
       "38           XGBClassifier        0.3  0.91      0.87  0.31    0.95       0.18\n",
       "35              GaussianNB        0.9  0.70      0.92  0.26    0.46       0.18\n",
       "34              GaussianNB        0.8  0.72      0.91  0.27    0.51       0.18\n",
       "33              GaussianNB        0.7  0.73      0.91  0.27    0.55       0.18\n",
       "32              GaussianNB        0.6  0.75      0.91  0.28    0.58       0.18\n",
       "31              GaussianNB        0.5  0.75      0.90  0.28    0.59       0.18\n",
       "28              GaussianNB        0.2  0.78      0.89  0.28    0.66       0.18\n",
       "11  DecisionTreeClassifier        0.3  0.89      0.87  0.30    0.92       0.18\n",
       "12  DecisionTreeClassifier        0.4  0.89      0.87  0.31    0.91       0.18\n",
       "20  RandomForestClassifier        0.3  0.90      0.87  0.31    0.93       0.18\n",
       "29              GaussianNB        0.3  0.76      0.90  0.28    0.62       0.18\n",
       "27              GaussianNB        0.1  0.79      0.89  0.28    0.69       0.17\n",
       "19  RandomForestClassifier        0.2  0.89      0.85  0.28    0.93       0.16\n",
       "10  DecisionTreeClassifier        0.2  0.88      0.85  0.28    0.92       0.16\n",
       "37           XGBClassifier        0.2  0.90      0.85  0.28    0.96       0.16\n",
       "1       LogisticRegression        0.2  0.90      0.84  0.28    0.97       0.16\n",
       "18  RandomForestClassifier        0.1  0.86      0.77  0.21    0.96       0.12\n",
       "36           XGBClassifier        0.1  0.87      0.77  0.21    0.98       0.12\n",
       "9   DecisionTreeClassifier        0.1  0.85      0.77  0.20    0.93       0.11\n",
       "0       LogisticRegression        0.1  0.83      0.69  0.16    0.99       0.09"
      ]
     },
     "execution_count": 35,
     "metadata": {},
     "output_type": "execute_result"
    }
   ],
   "source": [
    "results_df2.sort_values(by='precision', ascending=False)"
   ]
  },
  {
   "cell_type": "code",
   "execution_count": 36,
   "id": "efcf0892",
   "metadata": {
    "scrolled": false
   },
   "outputs": [
    {
     "data": {
      "text/plain": [
       "Index(['basket_icon_click', 'basket_add_list', 'basket_add_detail', 'sort_by',\n",
       "       'image_picker', 'account_page_click', 'promo_banner_click',\n",
       "       'detail_wishlist_add', 'list_size_dropdown', 'closed_minibasket_click',\n",
       "       'checked_returns_detail', 'saw_sizecharts', 'saw_delivery',\n",
       "       'saw_account_upgrade', 'saw_homepage', 'device_mobile',\n",
       "       'device_computer', 'device_tablet', 'returning_user', 'loc_uk'],\n",
       "      dtype='object')"
      ]
     },
     "execution_count": 36,
     "metadata": {},
     "output_type": "execute_result"
    }
   ],
   "source": [
    "feature_names = data.columns[:-1]\n",
    "feature_names"
   ]
  },
  {
   "cell_type": "code",
   "execution_count": 37,
   "id": "c6bcfb0d",
   "metadata": {},
   "outputs": [],
   "source": [
    "def fimport(model):\n",
    "    model.fit(X_train, y_train)\n",
    "    y_pred = model.predict_proba(X_valid)\n",
    "    importances = model.feature_importances_\n",
    "    feature_importances = pd.Series(importances, index=feature_names)\n",
    "    print(model.__class__.__name__)\n",
    "    return feature_importances.nlargest(20).plot(kind='barh')"
   ]
  },
  {
   "cell_type": "code",
   "execution_count": 56,
   "id": "ebdebc76",
   "metadata": {},
   "outputs": [],
   "source": [
    "feature_models = [dt, rf, xgb_cl]"
   ]
  },
  {
   "cell_type": "code",
   "execution_count": 39,
   "id": "53b4cebc",
   "metadata": {
    "scrolled": false
   },
   "outputs": [
    {
     "name": "stdout",
     "output_type": "stream",
     "text": [
      "DecisionTreeClassifier\n"
     ]
    },
    {
     "data": {
      "text/plain": [
       "<AxesSubplot:>"
      ]
     },
     "execution_count": 39,
     "metadata": {},
     "output_type": "execute_result"
    },
    {
     "data": {
      "image/png": "[encoded data removed]",
      "text/plain": [
       "<Figure size 432x288 with 1 Axes>"
      ]
     },
     "metadata": {
      "needs_background": "light"
     },
     "output_type": "display_data"
    }
   ],
   "source": [
    "fimport(dt)"
   ]
  },
  {
   "cell_type": "code",
   "execution_count": 40,
   "id": "cd9b10e7",
   "metadata": {
    "scrolled": false
   },
   "outputs": [
    {
     "name": "stdout",
     "output_type": "stream",
     "text": [
      "RandomForestClassifier\n"
     ]
    },
    {
     "data": {
      "text/plain": [
       "<AxesSubplot:>"
      ]
     },
     "execution_count": 40,
     "metadata": {},
     "output_type": "execute_result"
    },
    {
     "data": {
      "image/png": "[encoded data removed]",
      "text/plain": [
       "<Figure size 432x288 with 1 Axes>"
      ]
     },
     "metadata": {
      "needs_background": "light"
     },
     "output_type": "display_data"
    }
   ],
   "source": [
    "fimport(rf)"
   ]
  },
  {
   "cell_type": "code",
   "execution_count": 41,
   "id": "9f6a9b82",
   "metadata": {},
   "outputs": [
    {
     "name": "stdout",
     "output_type": "stream",
     "text": [
      "XGBClassifier\n"
     ]
    },
    {
     "data": {
      "text/plain": [
       "<AxesSubplot:>"
      ]
     },
     "execution_count": 41,
     "metadata": {},
     "output_type": "execute_result"
    },
    {
     "data": {
      "image/png": "[encoded data removed]",
      "text/plain": [
       "<Figure size 432x288 with 1 Axes>"
      ]
     },
     "metadata": {
      "needs_background": "light"
     },
     "output_type": "display_data"
    }
   ],
   "source": [
    "fimport(xgb_cl)"
   ]
  },
  {
   "cell_type": "code",
   "execution_count": 50,
   "id": "7e4eb63b",
   "metadata": {},
   "outputs": [
    {
     "data": {
      "text/plain": [
       "array([ True,  True,  True, False, False, False, False, False,  True,\n",
       "       False, False, False, False, False,  True,  True,  True, False,\n",
       "        True, False])"
      ]
     },
     "execution_count": 50,
     "metadata": {},
     "output_type": "execute_result"
    }
   ],
   "source": [
    "selector = RFE(dt, n_features_to_select=8, step=1)\n",
    "selector.fit(X_train, y_train)\n",
    "selector.support_"
   ]
  },
  {
   "cell_type": "code",
   "execution_count": 52,
   "id": "239f1140",
   "metadata": {},
   "outputs": [
    {
     "data": {
      "text/plain": [
       "Index(['basket_icon_click', 'basket_add_list', 'basket_add_detail',\n",
       "       'list_size_dropdown', 'saw_homepage', 'device_mobile',\n",
       "       'device_computer', 'returning_user'],\n",
       "      dtype='object')"
      ]
     },
     "execution_count": 52,
     "metadata": {},
     "output_type": "execute_result"
    }
   ],
   "source": [
    "data.drop(columns=['ordered']).columns[selector.support_]"
   ]
  },
  {
   "cell_type": "code",
   "execution_count": 57,
   "id": "0afe77c6",
   "metadata": {},
   "outputs": [
    {
     "name": "stdout",
     "output_type": "stream",
     "text": [
      "DecisionTreeClassifier\n",
      "Index(['basket_icon_click', 'basket_add_list', 'basket_add_detail',\n",
      "       'list_size_dropdown', 'saw_homepage', 'device_mobile',\n",
      "       'device_computer', 'returning_user'],\n",
      "      dtype='object')\n",
      "RandomForestClassifier\n",
      "Index(['basket_icon_click', 'basket_add_list', 'basket_add_detail',\n",
      "       'list_size_dropdown', 'closed_minibasket_click', 'saw_homepage',\n",
      "       'device_computer', 'returning_user'],\n",
      "      dtype='object')\n",
      "XGBClassifier\n",
      "Index(['basket_icon_click', 'basket_add_list', 'basket_add_detail',\n",
      "       'list_size_dropdown', 'saw_homepage', 'device_mobile',\n",
      "       'device_computer', 'returning_user'],\n",
      "      dtype='object')\n"
     ]
    }
   ],
   "source": [
    "for model in feature_models:\n",
    "    selector = RFE(model, n_features_to_select=8, step=1)\n",
    "    selector.fit(X_train, y_train)\n",
    "    print(model.__class__.__name__)\n",
    "    print(data.drop(columns=['ordered']).columns[selector.support_])"
   ]
  },
  {
   "cell_type": "code",
   "execution_count": 111,
   "id": "0b4f7d7b",
   "metadata": {},
   "outputs": [],
   "source": [
    "selected_features = ['basket_icon_click', 'basket_add_list', 'basket_add_detail',\n",
    "       'list_size_dropdown', 'saw_homepage', 'device_mobile', 'returning_user']"
   ]
  },
  {
   "cell_type": "code",
   "execution_count": null,
   "id": "cf14eb5a",
   "metadata": {},
   "outputs": [],
   "source": []
  }
 ],
 "metadata": {
  "hide_input": false,
  "kernelspec": {
   "display_name": "Python 3 (ipykernel)",
   "language": "python",
   "name": "python3"
  },
  "language_info": {
   "codemirror_mode": {
    "name": "ipython",
    "version": 3
   },
   "file_extension": ".py",
   "mimetype": "text/x-python",
   "name": "python",
   "nbconvert_exporter": "python",
   "pygments_lexer": "ipython3",
   "version": "3.9.12"
  }
 },
 "nbformat": 4,
 "nbformat_minor": 5
}
