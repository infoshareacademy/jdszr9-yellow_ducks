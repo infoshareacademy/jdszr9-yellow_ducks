{
 "cells": [
  {
   "cell_type": "code",
   "execution_count": 1,
   "id": "84e7328e",
   "metadata": {},
   "outputs": [],
   "source": [
    "import pandas as pd\n",
    "import numpy as np\n",
    "import seaborn as sns\n",
    "import matplotlib.pyplot as plt"
   ]
  },
  {
   "cell_type": "code",
   "execution_count": 2,
   "id": "b43b5f53",
   "metadata": {},
   "outputs": [],
   "source": [
    "from sklearn.model_selection import train_test_split"
   ]
  },
  {
   "cell_type": "code",
   "execution_count": 3,
   "id": "43d92a40",
   "metadata": {},
   "outputs": [],
   "source": [
    "# Silnik ML\n",
    "from sklearn.linear_model import LogisticRegression\n",
    "from sklearn.tree import DecisionTreeClassifier\n",
    "from sklearn.ensemble import RandomForestClassifier\n",
    "from sklearn.neighbors import KNeighborsClassifier\n",
    "from sklearn.naive_bayes import GaussianNB\n",
    "from sklearn.metrics import accuracy_score, f1_score, roc_auc_score, precision_score, recall_score, classification_report, confusion_matrix, ConfusionMatrixDisplay, roc_curve\n",
    "from sklearn.model_selection import cross_validate\n",
    "import xgboost as xgb\n",
    "from hyperopt import hp"
   ]
  },
  {
   "cell_type": "code",
   "execution_count": 4,
   "id": "dd24bf48",
   "metadata": {},
   "outputs": [],
   "source": [
    "data = pd.read_csv('training_sample.csv')"
   ]
  },
  {
   "cell_type": "code",
   "execution_count": 5,
   "id": "e56d5dca",
   "metadata": {},
   "outputs": [
    {
     "data": {
      "text/plain": [
       "(455401, 25)"
      ]
     },
     "execution_count": 5,
     "metadata": {},
     "output_type": "execute_result"
    }
   ],
   "source": [
    "data.shape"
   ]
  },
  {
   "cell_type": "code",
   "execution_count": 6,
   "id": "7c66138f",
   "metadata": {},
   "outputs": [],
   "source": [
    "data_to_join = pd.read_csv('testing_sample.csv')"
   ]
  },
  {
   "cell_type": "code",
   "execution_count": 7,
   "id": "61cec2cc",
   "metadata": {},
   "outputs": [
    {
     "data": {
      "text/plain": [
       "(151655, 25)"
      ]
     },
     "execution_count": 7,
     "metadata": {},
     "output_type": "execute_result"
    }
   ],
   "source": [
    "data_to_join.shape"
   ]
  },
  {
   "cell_type": "code",
   "execution_count": 8,
   "id": "87cfd370",
   "metadata": {},
   "outputs": [],
   "source": [
    "data = pd.concat([data, data_to_join], ignore_index=True)"
   ]
  },
  {
   "cell_type": "code",
   "execution_count": 9,
   "id": "1cce47f2",
   "metadata": {},
   "outputs": [
    {
     "data": {
      "text/plain": [
       "(607056, 25)"
      ]
     },
     "execution_count": 9,
     "metadata": {},
     "output_type": "execute_result"
    }
   ],
   "source": [
    "data.shape"
   ]
  },
  {
   "cell_type": "code",
   "execution_count": 10,
   "id": "ec5a548a",
   "metadata": {},
   "outputs": [],
   "source": [
    "data.drop(columns=['UserID'], inplace = True)"
   ]
  },
  {
   "cell_type": "code",
   "execution_count": 11,
   "id": "0bc16829",
   "metadata": {},
   "outputs": [
    {
     "data": {
      "text/html": [
       "<div>\n",
       "<style scoped>\n",
       "    .dataframe tbody tr th:only-of-type {\n",
       "        vertical-align: middle;\n",
       "    }\n",
       "\n",
       "    .dataframe tbody tr th {\n",
       "        vertical-align: top;\n",
       "    }\n",
       "\n",
       "    .dataframe thead th {\n",
       "        text-align: right;\n",
       "    }\n",
       "</style>\n",
       "<table border=\"1\" class=\"dataframe\">\n",
       "  <thead>\n",
       "    <tr style=\"text-align: right;\">\n",
       "      <th></th>\n",
       "      <th>basket_icon_click</th>\n",
       "      <th>basket_add_list</th>\n",
       "      <th>basket_add_detail</th>\n",
       "      <th>sort_by</th>\n",
       "      <th>image_picker</th>\n",
       "      <th>account_page_click</th>\n",
       "      <th>promo_banner_click</th>\n",
       "      <th>detail_wishlist_add</th>\n",
       "      <th>list_size_dropdown</th>\n",
       "      <th>closed_minibasket_click</th>\n",
       "      <th>...</th>\n",
       "      <th>saw_sizecharts</th>\n",
       "      <th>saw_delivery</th>\n",
       "      <th>saw_account_upgrade</th>\n",
       "      <th>saw_homepage</th>\n",
       "      <th>device_mobile</th>\n",
       "      <th>device_computer</th>\n",
       "      <th>device_tablet</th>\n",
       "      <th>returning_user</th>\n",
       "      <th>loc_uk</th>\n",
       "      <th>ordered</th>\n",
       "    </tr>\n",
       "  </thead>\n",
       "  <tbody>\n",
       "    <tr>\n",
       "      <th>0</th>\n",
       "      <td>0</td>\n",
       "      <td>0</td>\n",
       "      <td>0</td>\n",
       "      <td>0</td>\n",
       "      <td>0</td>\n",
       "      <td>0</td>\n",
       "      <td>0</td>\n",
       "      <td>0</td>\n",
       "      <td>0</td>\n",
       "      <td>0</td>\n",
       "      <td>...</td>\n",
       "      <td>0</td>\n",
       "      <td>0</td>\n",
       "      <td>0</td>\n",
       "      <td>0</td>\n",
       "      <td>1</td>\n",
       "      <td>0</td>\n",
       "      <td>0</td>\n",
       "      <td>0</td>\n",
       "      <td>1</td>\n",
       "      <td>0</td>\n",
       "    </tr>\n",
       "    <tr>\n",
       "      <th>1</th>\n",
       "      <td>0</td>\n",
       "      <td>0</td>\n",
       "      <td>0</td>\n",
       "      <td>0</td>\n",
       "      <td>0</td>\n",
       "      <td>0</td>\n",
       "      <td>0</td>\n",
       "      <td>0</td>\n",
       "      <td>0</td>\n",
       "      <td>0</td>\n",
       "      <td>...</td>\n",
       "      <td>0</td>\n",
       "      <td>0</td>\n",
       "      <td>0</td>\n",
       "      <td>0</td>\n",
       "      <td>1</td>\n",
       "      <td>0</td>\n",
       "      <td>0</td>\n",
       "      <td>0</td>\n",
       "      <td>1</td>\n",
       "      <td>0</td>\n",
       "    </tr>\n",
       "    <tr>\n",
       "      <th>2</th>\n",
       "      <td>0</td>\n",
       "      <td>0</td>\n",
       "      <td>0</td>\n",
       "      <td>0</td>\n",
       "      <td>0</td>\n",
       "      <td>0</td>\n",
       "      <td>0</td>\n",
       "      <td>0</td>\n",
       "      <td>0</td>\n",
       "      <td>0</td>\n",
       "      <td>...</td>\n",
       "      <td>0</td>\n",
       "      <td>0</td>\n",
       "      <td>0</td>\n",
       "      <td>0</td>\n",
       "      <td>1</td>\n",
       "      <td>0</td>\n",
       "      <td>0</td>\n",
       "      <td>1</td>\n",
       "      <td>1</td>\n",
       "      <td>0</td>\n",
       "    </tr>\n",
       "    <tr>\n",
       "      <th>3</th>\n",
       "      <td>0</td>\n",
       "      <td>0</td>\n",
       "      <td>0</td>\n",
       "      <td>0</td>\n",
       "      <td>0</td>\n",
       "      <td>0</td>\n",
       "      <td>0</td>\n",
       "      <td>0</td>\n",
       "      <td>0</td>\n",
       "      <td>0</td>\n",
       "      <td>...</td>\n",
       "      <td>0</td>\n",
       "      <td>0</td>\n",
       "      <td>0</td>\n",
       "      <td>0</td>\n",
       "      <td>1</td>\n",
       "      <td>0</td>\n",
       "      <td>0</td>\n",
       "      <td>1</td>\n",
       "      <td>1</td>\n",
       "      <td>0</td>\n",
       "    </tr>\n",
       "    <tr>\n",
       "      <th>4</th>\n",
       "      <td>0</td>\n",
       "      <td>1</td>\n",
       "      <td>0</td>\n",
       "      <td>1</td>\n",
       "      <td>0</td>\n",
       "      <td>0</td>\n",
       "      <td>0</td>\n",
       "      <td>0</td>\n",
       "      <td>1</td>\n",
       "      <td>0</td>\n",
       "      <td>...</td>\n",
       "      <td>0</td>\n",
       "      <td>0</td>\n",
       "      <td>0</td>\n",
       "      <td>1</td>\n",
       "      <td>0</td>\n",
       "      <td>0</td>\n",
       "      <td>1</td>\n",
       "      <td>0</td>\n",
       "      <td>1</td>\n",
       "      <td>1</td>\n",
       "    </tr>\n",
       "    <tr>\n",
       "      <th>...</th>\n",
       "      <td>...</td>\n",
       "      <td>...</td>\n",
       "      <td>...</td>\n",
       "      <td>...</td>\n",
       "      <td>...</td>\n",
       "      <td>...</td>\n",
       "      <td>...</td>\n",
       "      <td>...</td>\n",
       "      <td>...</td>\n",
       "      <td>...</td>\n",
       "      <td>...</td>\n",
       "      <td>...</td>\n",
       "      <td>...</td>\n",
       "      <td>...</td>\n",
       "      <td>...</td>\n",
       "      <td>...</td>\n",
       "      <td>...</td>\n",
       "      <td>...</td>\n",
       "      <td>...</td>\n",
       "      <td>...</td>\n",
       "      <td>...</td>\n",
       "    </tr>\n",
       "    <tr>\n",
       "      <th>607051</th>\n",
       "      <td>0</td>\n",
       "      <td>0</td>\n",
       "      <td>0</td>\n",
       "      <td>0</td>\n",
       "      <td>0</td>\n",
       "      <td>0</td>\n",
       "      <td>0</td>\n",
       "      <td>0</td>\n",
       "      <td>0</td>\n",
       "      <td>0</td>\n",
       "      <td>...</td>\n",
       "      <td>0</td>\n",
       "      <td>0</td>\n",
       "      <td>0</td>\n",
       "      <td>1</td>\n",
       "      <td>1</td>\n",
       "      <td>0</td>\n",
       "      <td>0</td>\n",
       "      <td>1</td>\n",
       "      <td>1</td>\n",
       "      <td>0</td>\n",
       "    </tr>\n",
       "    <tr>\n",
       "      <th>607052</th>\n",
       "      <td>0</td>\n",
       "      <td>0</td>\n",
       "      <td>0</td>\n",
       "      <td>0</td>\n",
       "      <td>0</td>\n",
       "      <td>0</td>\n",
       "      <td>0</td>\n",
       "      <td>0</td>\n",
       "      <td>0</td>\n",
       "      <td>0</td>\n",
       "      <td>...</td>\n",
       "      <td>0</td>\n",
       "      <td>0</td>\n",
       "      <td>0</td>\n",
       "      <td>0</td>\n",
       "      <td>1</td>\n",
       "      <td>0</td>\n",
       "      <td>0</td>\n",
       "      <td>1</td>\n",
       "      <td>0</td>\n",
       "      <td>0</td>\n",
       "    </tr>\n",
       "    <tr>\n",
       "      <th>607053</th>\n",
       "      <td>0</td>\n",
       "      <td>0</td>\n",
       "      <td>0</td>\n",
       "      <td>0</td>\n",
       "      <td>0</td>\n",
       "      <td>0</td>\n",
       "      <td>0</td>\n",
       "      <td>0</td>\n",
       "      <td>0</td>\n",
       "      <td>0</td>\n",
       "      <td>...</td>\n",
       "      <td>0</td>\n",
       "      <td>0</td>\n",
       "      <td>0</td>\n",
       "      <td>0</td>\n",
       "      <td>1</td>\n",
       "      <td>0</td>\n",
       "      <td>0</td>\n",
       "      <td>1</td>\n",
       "      <td>1</td>\n",
       "      <td>0</td>\n",
       "    </tr>\n",
       "    <tr>\n",
       "      <th>607054</th>\n",
       "      <td>0</td>\n",
       "      <td>0</td>\n",
       "      <td>0</td>\n",
       "      <td>0</td>\n",
       "      <td>0</td>\n",
       "      <td>0</td>\n",
       "      <td>0</td>\n",
       "      <td>0</td>\n",
       "      <td>0</td>\n",
       "      <td>0</td>\n",
       "      <td>...</td>\n",
       "      <td>0</td>\n",
       "      <td>0</td>\n",
       "      <td>0</td>\n",
       "      <td>0</td>\n",
       "      <td>1</td>\n",
       "      <td>0</td>\n",
       "      <td>0</td>\n",
       "      <td>1</td>\n",
       "      <td>1</td>\n",
       "      <td>0</td>\n",
       "    </tr>\n",
       "    <tr>\n",
       "      <th>607055</th>\n",
       "      <td>0</td>\n",
       "      <td>0</td>\n",
       "      <td>0</td>\n",
       "      <td>0</td>\n",
       "      <td>0</td>\n",
       "      <td>0</td>\n",
       "      <td>0</td>\n",
       "      <td>0</td>\n",
       "      <td>1</td>\n",
       "      <td>0</td>\n",
       "      <td>...</td>\n",
       "      <td>0</td>\n",
       "      <td>0</td>\n",
       "      <td>0</td>\n",
       "      <td>1</td>\n",
       "      <td>0</td>\n",
       "      <td>0</td>\n",
       "      <td>1</td>\n",
       "      <td>0</td>\n",
       "      <td>1</td>\n",
       "      <td>0</td>\n",
       "    </tr>\n",
       "  </tbody>\n",
       "</table>\n",
       "<p>607056 rows × 24 columns</p>\n",
       "</div>"
      ],
      "text/plain": [
       "        basket_icon_click  basket_add_list  basket_add_detail  sort_by  \\\n",
       "0                       0                0                  0        0   \n",
       "1                       0                0                  0        0   \n",
       "2                       0                0                  0        0   \n",
       "3                       0                0                  0        0   \n",
       "4                       0                1                  0        1   \n",
       "...                   ...              ...                ...      ...   \n",
       "607051                  0                0                  0        0   \n",
       "607052                  0                0                  0        0   \n",
       "607053                  0                0                  0        0   \n",
       "607054                  0                0                  0        0   \n",
       "607055                  0                0                  0        0   \n",
       "\n",
       "        image_picker  account_page_click  promo_banner_click  \\\n",
       "0                  0                   0                   0   \n",
       "1                  0                   0                   0   \n",
       "2                  0                   0                   0   \n",
       "3                  0                   0                   0   \n",
       "4                  0                   0                   0   \n",
       "...              ...                 ...                 ...   \n",
       "607051             0                   0                   0   \n",
       "607052             0                   0                   0   \n",
       "607053             0                   0                   0   \n",
       "607054             0                   0                   0   \n",
       "607055             0                   0                   0   \n",
       "\n",
       "        detail_wishlist_add  list_size_dropdown  closed_minibasket_click  ...  \\\n",
       "0                         0                   0                        0  ...   \n",
       "1                         0                   0                        0  ...   \n",
       "2                         0                   0                        0  ...   \n",
       "3                         0                   0                        0  ...   \n",
       "4                         0                   1                        0  ...   \n",
       "...                     ...                 ...                      ...  ...   \n",
       "607051                    0                   0                        0  ...   \n",
       "607052                    0                   0                        0  ...   \n",
       "607053                    0                   0                        0  ...   \n",
       "607054                    0                   0                        0  ...   \n",
       "607055                    0                   1                        0  ...   \n",
       "\n",
       "        saw_sizecharts  saw_delivery  saw_account_upgrade  saw_homepage  \\\n",
       "0                    0             0                    0             0   \n",
       "1                    0             0                    0             0   \n",
       "2                    0             0                    0             0   \n",
       "3                    0             0                    0             0   \n",
       "4                    0             0                    0             1   \n",
       "...                ...           ...                  ...           ...   \n",
       "607051               0             0                    0             1   \n",
       "607052               0             0                    0             0   \n",
       "607053               0             0                    0             0   \n",
       "607054               0             0                    0             0   \n",
       "607055               0             0                    0             1   \n",
       "\n",
       "        device_mobile  device_computer  device_tablet  returning_user  loc_uk  \\\n",
       "0                   1                0              0               0       1   \n",
       "1                   1                0              0               0       1   \n",
       "2                   1                0              0               1       1   \n",
       "3                   1                0              0               1       1   \n",
       "4                   0                0              1               0       1   \n",
       "...               ...              ...            ...             ...     ...   \n",
       "607051              1                0              0               1       1   \n",
       "607052              1                0              0               1       0   \n",
       "607053              1                0              0               1       1   \n",
       "607054              1                0              0               1       1   \n",
       "607055              0                0              1               0       1   \n",
       "\n",
       "        ordered  \n",
       "0             0  \n",
       "1             0  \n",
       "2             0  \n",
       "3             0  \n",
       "4             1  \n",
       "...         ...  \n",
       "607051        0  \n",
       "607052        0  \n",
       "607053        0  \n",
       "607054        0  \n",
       "607055        0  \n",
       "\n",
       "[607056 rows x 24 columns]"
      ]
     },
     "execution_count": 11,
     "metadata": {},
     "output_type": "execute_result"
    }
   ],
   "source": [
    "data"
   ]
  },
  {
   "cell_type": "code",
   "execution_count": 12,
   "id": "9997acd8",
   "metadata": {},
   "outputs": [],
   "source": [
    "X = data.iloc[:,:-1]"
   ]
  },
  {
   "cell_type": "code",
   "execution_count": 13,
   "id": "3fc082f3",
   "metadata": {},
   "outputs": [],
   "source": [
    "y = data.iloc[:,-1]"
   ]
  },
  {
   "cell_type": "code",
   "execution_count": 14,
   "id": "c9f86f8b",
   "metadata": {},
   "outputs": [],
   "source": [
    "X_train, X_test, y_train, y_test = train_test_split(X, y, test_size=0.2, random_state=0)"
   ]
  },
  {
   "cell_type": "code",
   "execution_count": 15,
   "id": "782dce83",
   "metadata": {},
   "outputs": [
    {
     "data": {
      "text/plain": [
       "(485644, 23)"
      ]
     },
     "execution_count": 15,
     "metadata": {},
     "output_type": "execute_result"
    }
   ],
   "source": [
    "X_train.shape"
   ]
  },
  {
   "cell_type": "code",
   "execution_count": 16,
   "id": "67dfb472",
   "metadata": {
    "scrolled": true
   },
   "outputs": [
    {
     "data": {
      "text/plain": [
       "(121412, 23)"
      ]
     },
     "execution_count": 16,
     "metadata": {},
     "output_type": "execute_result"
    }
   ],
   "source": [
    "X_test.shape"
   ]
  },
  {
   "cell_type": "code",
   "execution_count": 17,
   "id": "6362b751",
   "metadata": {},
   "outputs": [],
   "source": [
    "data_dm = xgb.DMatrix(data=X_train.values, label=y_train.values)"
   ]
  },
  {
   "cell_type": "code",
   "execution_count": 18,
   "id": "e7018f79",
   "metadata": {},
   "outputs": [
    {
     "data": {
      "text/plain": [
       "<AxesSubplot:>"
      ]
     },
     "execution_count": 18,
     "metadata": {},
     "output_type": "execute_result"
    },
    {
     "data": {
      "image/png": "[encoded data removed]",
      "text/plain": [
       "<Figure size 432x288 with 2 Axes>"
      ]
     },
     "metadata": {
      "needs_background": "light"
     },
     "output_type": "display_data"
    }
   ],
   "source": [
    "sns.heatmap(data.corr())"
   ]
  },
  {
   "cell_type": "code",
   "execution_count": 19,
   "id": "994793fa",
   "metadata": {
    "scrolled": true
   },
   "outputs": [
    {
     "data": {
      "text/plain": [
       "basket_icon_click           9.29\n",
       "basket_add_list             7.11\n",
       "basket_add_detail          10.61\n",
       "sort_by                     3.67\n",
       "image_picker                2.64\n",
       "account_page_click          0.35\n",
       "promo_banner_click          1.57\n",
       "detail_wishlist_add         0.34\n",
       "list_size_dropdown         22.68\n",
       "closed_minibasket_click     1.63\n",
       "checked_delivery_detail     5.30\n",
       "checked_returns_detail      0.91\n",
       "sign_in                     7.97\n",
       "saw_checkout                7.07\n",
       "saw_sizecharts              0.04\n",
       "saw_delivery                0.54\n",
       "saw_account_upgrade         0.11\n",
       "saw_homepage               28.89\n",
       "device_mobile              68.09\n",
       "device_computer            19.58\n",
       "device_tablet              12.63\n",
       "returning_user             53.35\n",
       "loc_uk                     93.20\n",
       "ordered                     3.15\n",
       "dtype: float64"
      ]
     },
     "execution_count": 19,
     "metadata": {},
     "output_type": "execute_result"
    }
   ],
   "source": [
    "# Sprawdzanie niezbilansowania bazy\n",
    "round((data[data == 1].count()/len(data))*100,2)"
   ]
  },
  {
   "cell_type": "code",
   "execution_count": 20,
   "id": "d1887aa2",
   "metadata": {},
   "outputs": [],
   "source": [
    "positive_ordered = data[data['ordered']==1]"
   ]
  },
  {
   "cell_type": "code",
   "execution_count": 21,
   "id": "4d8e855f",
   "metadata": {
    "scrolled": true
   },
   "outputs": [
    {
     "data": {
      "text/plain": [
       "basket_icon_click          28.89\n",
       "basket_add_list            56.43\n",
       "basket_add_detail          26.01\n",
       "sort_by                    91.39\n",
       "image_picker               91.81\n",
       "account_page_click         98.01\n",
       "promo_banner_click         94.97\n",
       "detail_wishlist_add        98.98\n",
       "list_size_dropdown         45.79\n",
       "closed_minibasket_click    89.55\n",
       "checked_delivery_detail     1.03\n",
       "checked_returns_detail     96.37\n",
       "sign_in                     0.61\n",
       "saw_checkout                0.00\n",
       "saw_sizecharts             99.89\n",
       "saw_delivery               98.33\n",
       "saw_account_upgrade        99.48\n",
       "saw_homepage               36.77\n",
       "device_mobile              41.49\n",
       "device_computer            71.27\n",
       "device_tablet              84.46\n",
       "returning_user             32.13\n",
       "loc_uk                      2.90\n",
       "ordered                     0.00\n",
       "dtype: float64"
      ]
     },
     "execution_count": 21,
     "metadata": {},
     "output_type": "execute_result"
    }
   ],
   "source": [
    "# Sprawdzanie niezbilansowania bazy\n",
    "round((positive_ordered[positive_ordered == 0].count()/len(positive_ordered))*100,2)"
   ]
  },
  {
   "cell_type": "code",
   "execution_count": 22,
   "id": "6e770740",
   "metadata": {
    "scrolled": true
   },
   "outputs": [],
   "source": [
    "# Oblicznie stosunku 0 do 1 - argument do xgb classifier żeby zrównoważyć dane\n",
    "\n",
    "neg_samples = np.sum(y == 0)\n",
    "pos_samples = np.sum(y == 1)\n",
    "scale_pos_weight = neg_samples / pos_samples"
   ]
  },
  {
   "cell_type": "code",
   "execution_count": 23,
   "id": "5389bfbd",
   "metadata": {},
   "outputs": [],
   "source": [
    "# Modele na początek\n",
    "lr = LogisticRegression(class_weight='balanced')\n",
    "dt = DecisionTreeClassifier(class_weight='balanced')\n",
    "rf = RandomForestClassifier(n_estimators = 10, max_depth = 5, class_weight='balanced')\n",
    "nb = GaussianNB() \n",
    "xgb_cl = xgb.XGBClassifier(scale_pos_weight=scale_pos_weight)"
   ]
  },
  {
   "cell_type": "code",
   "execution_count": 24,
   "id": "996e199f",
   "metadata": {},
   "outputs": [],
   "source": [
    "# Lista modeli\n",
    "models = [lr, dt, rf, nb, xgb_cl]"
   ]
  },
  {
   "cell_type": "code",
   "execution_count": 25,
   "id": "ff32f105",
   "metadata": {},
   "outputs": [],
   "source": [
    "# Metryki\n",
    "scoring = ['accuracy', 'precision_macro', 'recall_macro', 'f1_macro', 'roc_auc']"
   ]
  },
  {
   "cell_type": "code",
   "execution_count": 26,
   "id": "6bfbf485",
   "metadata": {},
   "outputs": [
    {
     "name": "stdout",
     "output_type": "stream",
     "text": [
      "Dla LogisticRegression: Accuracy: 0.992 | F1 Score: 0.939 | AUC Score: 0.997 | Precision: 0.897 | Recall: 0.992\n"
     ]
    },
    {
     "data": {
      "image/png": "[encoded data removed]",
      "text/plain": [
       "<Figure size 432x288 with 2 Axes>"
      ]
     },
     "metadata": {
      "needs_background": "light"
     },
     "output_type": "display_data"
    },
    {
     "name": "stdout",
     "output_type": "stream",
     "text": [
      "Dla DecisionTreeClassifier: Accuracy: 0.991 | F1 Score: 0.932 | AUC Score: 0.983 | Precision: 0.893 | Recall: 0.981\n"
     ]
    },
    {
     "data": {
      "image/png": "[encoded data removed]",
      "text/plain": [
       "<Figure size 432x288 with 2 Axes>"
      ]
     },
     "metadata": {
      "needs_background": "light"
     },
     "output_type": "display_data"
    },
    {
     "name": "stdout",
     "output_type": "stream",
     "text": [
      "Dla RandomForestClassifier: Accuracy: 0.985 | F1 Score: 0.903 | AUC Score: 0.997 | Precision: 0.846 | Recall: 0.989\n"
     ]
    },
    {
     "data": {
      "image/png": "[encoded data removed]",
      "text/plain": [
       "<Figure size 432x288 with 2 Axes>"
      ]
     },
     "metadata": {
      "needs_background": "light"
     },
     "output_type": "display_data"
    },
    {
     "name": "stdout",
     "output_type": "stream",
     "text": [
      "Dla GaussianNB: Accuracy: 0.988 | F1 Score: 0.916 | AUC Score: 0.995 | Precision: 0.863 | Recall: 0.988\n"
     ]
    },
    {
     "data": {
      "image/png": "[encoded data removed]",
      "text/plain": [
       "<Figure size 432x288 with 2 Axes>"
      ]
     },
     "metadata": {
      "needs_background": "light"
     },
     "output_type": "display_data"
    },
    {
     "name": "stdout",
     "output_type": "stream",
     "text": [
      "Dla XGBClassifier: Accuracy: 0.992 | F1 Score: 0.938 | AUC Score: 0.997 | Precision: 0.896 | Recall: 0.991\n"
     ]
    },
    {
     "data": {
      "image/png": "[encoded data removed]",
      "text/plain": [
       "<Figure size 432x288 with 2 Axes>"
      ]
     },
     "metadata": {
      "needs_background": "light"
     },
     "output_type": "display_data"
    }
   ],
   "source": [
    "results = []\n",
    "\n",
    "for model in models:\n",
    "    # Trenowanie\n",
    "    model.fit(X_train, y_train) \n",
    "    \n",
    "    # Crossvalidation\n",
    "    scores = cross_validate(model, X_train, y_train, scoring=scoring, cv=10)\n",
    "    \n",
    "    # Wyciąganie metryk\n",
    "    accuracy = round(np.mean(scores['test_accuracy']),3)\n",
    "    f1 = round(np.mean(scores['test_f1_macro']),3)\n",
    "    AUC = round(np.mean(scores['test_roc_auc']),3)\n",
    "    precision = round(np.mean(scores['test_precision_macro']),3)\n",
    "    recall = round(np.mean(scores['test_recall_macro']),3)\n",
    "    \n",
    "    # Macierz pomyłek\n",
    "    y_pred = model.predict(X_train)\n",
    "    cm = confusion_matrix(y_train, y_pred)\n",
    "    \n",
    "    # Wyciąganie false_positives z confusion matrix (bo zauważyłam, że model sobie z nimi najgorzej radzi)\n",
    "    fp = cm[0, 1]  \n",
    "    \n",
    "    # Metryki do listy pod df\n",
    "    results.append({\n",
    "        'model': model.__class__.__name__,\n",
    "        'auc': AUC,\n",
    "        'accuracy': accuracy,\n",
    "        'f1': f1,\n",
    "        'precision': precision,\n",
    "        'recall': recall, \n",
    "        'false_positives': fp})\n",
    "    \n",
    "    # Wydruk\n",
    "    print('Dla {}: Accuracy: {} | F1 Score: {} | AUC Score: {} | Precision: {} | Recall: {}'.format(type(model).__name__, accuracy, f1, AUC, precision, recall))\n",
    "    \n",
    "    # Macierz pomyłek graficznie\n",
    "    disp = ConfusionMatrixDisplay(confusion_matrix=cm, display_labels=model.classes_)\n",
    "    disp.plot()\n",
    "    plt.show()  "
   ]
  },
  {
   "cell_type": "code",
   "execution_count": 27,
   "id": "9e145dff",
   "metadata": {},
   "outputs": [
    {
     "data": {
      "text/html": [
       "<div>\n",
       "<style scoped>\n",
       "    .dataframe tbody tr th:only-of-type {\n",
       "        vertical-align: middle;\n",
       "    }\n",
       "\n",
       "    .dataframe tbody tr th {\n",
       "        vertical-align: top;\n",
       "    }\n",
       "\n",
       "    .dataframe thead th {\n",
       "        text-align: right;\n",
       "    }\n",
       "</style>\n",
       "<table border=\"1\" class=\"dataframe\">\n",
       "  <thead>\n",
       "    <tr style=\"text-align: right;\">\n",
       "      <th></th>\n",
       "      <th>model</th>\n",
       "      <th>auc</th>\n",
       "      <th>accuracy</th>\n",
       "      <th>f1</th>\n",
       "      <th>precision</th>\n",
       "      <th>recall</th>\n",
       "      <th>false_positives</th>\n",
       "    </tr>\n",
       "  </thead>\n",
       "  <tbody>\n",
       "    <tr>\n",
       "      <th>0</th>\n",
       "      <td>LogisticRegression</td>\n",
       "      <td>0.997</td>\n",
       "      <td>0.992</td>\n",
       "      <td>0.939</td>\n",
       "      <td>0.897</td>\n",
       "      <td>0.992</td>\n",
       "      <td>3885</td>\n",
       "    </tr>\n",
       "    <tr>\n",
       "      <th>1</th>\n",
       "      <td>DecisionTreeClassifier</td>\n",
       "      <td>0.983</td>\n",
       "      <td>0.991</td>\n",
       "      <td>0.932</td>\n",
       "      <td>0.893</td>\n",
       "      <td>0.981</td>\n",
       "      <td>3828</td>\n",
       "    </tr>\n",
       "    <tr>\n",
       "      <th>2</th>\n",
       "      <td>RandomForestClassifier</td>\n",
       "      <td>0.997</td>\n",
       "      <td>0.985</td>\n",
       "      <td>0.903</td>\n",
       "      <td>0.846</td>\n",
       "      <td>0.989</td>\n",
       "      <td>3653</td>\n",
       "    </tr>\n",
       "    <tr>\n",
       "      <th>3</th>\n",
       "      <td>GaussianNB</td>\n",
       "      <td>0.995</td>\n",
       "      <td>0.988</td>\n",
       "      <td>0.916</td>\n",
       "      <td>0.863</td>\n",
       "      <td>0.988</td>\n",
       "      <td>5676</td>\n",
       "    </tr>\n",
       "    <tr>\n",
       "      <th>4</th>\n",
       "      <td>XGBClassifier</td>\n",
       "      <td>0.997</td>\n",
       "      <td>0.992</td>\n",
       "      <td>0.938</td>\n",
       "      <td>0.896</td>\n",
       "      <td>0.991</td>\n",
       "      <td>3874</td>\n",
       "    </tr>\n",
       "  </tbody>\n",
       "</table>\n",
       "</div>"
      ],
      "text/plain": [
       "                    model    auc  accuracy     f1  precision  recall  \\\n",
       "0      LogisticRegression  0.997     0.992  0.939      0.897   0.992   \n",
       "1  DecisionTreeClassifier  0.983     0.991  0.932      0.893   0.981   \n",
       "2  RandomForestClassifier  0.997     0.985  0.903      0.846   0.989   \n",
       "3              GaussianNB  0.995     0.988  0.916      0.863   0.988   \n",
       "4           XGBClassifier  0.997     0.992  0.938      0.896   0.991   \n",
       "\n",
       "   false_positives  \n",
       "0             3885  \n",
       "1             3828  \n",
       "2             3653  \n",
       "3             5676  \n",
       "4             3874  "
      ]
     },
     "execution_count": 27,
     "metadata": {},
     "output_type": "execute_result"
    }
   ],
   "source": [
    "# Porównanie metryk powyższych modeli w df\n",
    "results_df = pd.DataFrame.from_records(results) \n",
    "results_df"
   ]
  },
  {
   "cell_type": "code",
   "execution_count": 28,
   "id": "3ff0e0f0",
   "metadata": {
    "scrolled": false
   },
   "outputs": [
    {
     "name": "stdout",
     "output_type": "stream",
     "text": [
      "Krzywa ROC dla LogisticRegression\n"
     ]
    },
    {
     "data": {
      "image/png": "[encoded data removed]",
      "text/plain": [
       "<Figure size 1080x720 with 1 Axes>"
      ]
     },
     "metadata": {
      "needs_background": "light"
     },
     "output_type": "display_data"
    },
    {
     "name": "stdout",
     "output_type": "stream",
     "text": [
      "Krzywa ROC dla DecisionTreeClassifier\n"
     ]
    },
    {
     "data": {
      "image/png": "[encoded data removed]",
      "text/plain": [
       "<Figure size 1080x720 with 1 Axes>"
      ]
     },
     "metadata": {
      "needs_background": "light"
     },
     "output_type": "display_data"
    },
    {
     "name": "stdout",
     "output_type": "stream",
     "text": [
      "Krzywa ROC dla RandomForestClassifier\n"
     ]
    },
    {
     "data": {
      "image/png": "[encoded data removed]",
      "text/plain": [
       "<Figure size 1080x720 with 1 Axes>"
      ]
     },
     "metadata": {
      "needs_background": "light"
     },
     "output_type": "display_data"
    },
    {
     "name": "stdout",
     "output_type": "stream",
     "text": [
      "Krzywa ROC dla GaussianNB\n"
     ]
    },
    {
     "data": {
      "image/png": "[encoded data removed]",
      "text/plain": [
       "<Figure size 1080x720 with 1 Axes>"
      ]
     },
     "metadata": {
      "needs_background": "light"
     },
     "output_type": "display_data"
    },
    {
     "name": "stdout",
     "output_type": "stream",
     "text": [
      "Krzywa ROC dla XGBClassifier\n"
     ]
    },
    {
     "data": {
      "image/png": "[encoded data removed]",
      "text/plain": [
       "<Figure size 1080x720 with 1 Axes>"
      ]
     },
     "metadata": {
      "needs_background": "light"
     },
     "output_type": "display_data"
    }
   ],
   "source": [
    "# Krzywe ROC (czy dobre dane czy powinny być testowe?)\n",
    "for model in models:\n",
    "    probas = model.predict_proba(X_train)\n",
    "    positive_proba = probas[:, 1]\n",
    "    false_positive_rate, true_positive_rate, thresholds = roc_curve(y_train, positive_proba)\n",
    "    print('Krzywa ROC dla {}'.format(type(model).__name__))\n",
    "    plt.figure(figsize=(15, 10))\n",
    "    plt.plot(false_positive_rate, true_positive_rate)\n",
    "    plt.xlabel(\"False positive rate\")\n",
    "    plt.ylabel(\"True positive rate\")\n",
    "    plt.show()\n",
    " "
   ]
  },
  {
   "cell_type": "code",
   "execution_count": null,
   "id": "ba4db07c",
   "metadata": {},
   "outputs": [],
   "source": []
  }
 ],
 "metadata": {
  "hide_input": false,
  "kernelspec": {
   "display_name": "Python 3 (ipykernel)",
   "language": "python",
   "name": "python3"
  },
  "language_info": {
   "codemirror_mode": {
    "name": "ipython",
    "version": 3
   },
   "file_extension": ".py",
   "mimetype": "text/x-python",
   "name": "python",
   "nbconvert_exporter": "python",
   "pygments_lexer": "ipython3",
   "version": "3.9.12"
  }
 },
 "nbformat": 4,
 "nbformat_minor": 5
}
